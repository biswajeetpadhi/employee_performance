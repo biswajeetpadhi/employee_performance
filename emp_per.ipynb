{
 "cells": [
  {
   "cell_type": "code",
   "execution_count": 177,
   "metadata": {
    "collapsed": true,
    "pycharm": {
     "name": "#%%\n"
    }
   },
   "outputs": [],
   "source": [
    "import pandas as pd\n",
    "import pickle\n",
    "from feature_engine.outliers import Winsorizer\n",
    "from sklearn.preprocessing import StandardScaler , OneHotEncoder\n",
    "from sklearn.model_selection import train_test_split\n",
    "from sklearn.neighbors import KNeighborsClassifier\n",
    "from sklearn.ensemble import BaggingClassifier\n",
    "from sklearn.metrics import confusion_matrix ,f1_score, accuracy_score, classification_report"
   ]
  },
  {
   "cell_type": "code",
   "execution_count": 178,
   "outputs": [],
   "source": [
    "df = pd.read_csv('fakerdata.csv')\n",
    "pd.set_option(\"display.max_columns\",None)"
   ],
   "metadata": {
    "collapsed": false,
    "pycharm": {
     "name": "#%%\n"
    }
   }
  },
  {
   "cell_type": "code",
   "execution_count": 179,
   "outputs": [
    {
     "data": {
      "text/plain": "         eid  age gender maritalstatus              department  \\\n0     LZJ048   49      f        single                   Sales   \n1     pEQ793   40      f       married                   Sales   \n2     jGb879   33      f        single                   Sales   \n3     HXZ392   28      f       married         Human Resources   \n4     wTb124   45      m       married                   Sales   \n...      ...  ...    ...           ...                     ...   \n4995  lqv086   30      m        single  Research & Development   \n4996  vcu089   37      m       married                   Sales   \n4997  lfe187   25      f        single  Research & Development   \n4998  rjL459   41      m        single  Research & Development   \n4999  Gjv118   32      f        single  Research & Development   \n\n                     jobrole  education  environmentsatisfaction  \\\n0            Sales Executive          4                        1   \n1            Sales Executive          3                        4   \n2            Sales Executive          5                        4   \n3                    Manager          4                        2   \n4            Sales Executive          2                        3   \n...                      ...        ...                      ...   \n4995      Research Scientist          5                        3   \n4996         Sales Executive          2                        1   \n4997      Senior Manager R&D          2                        3   \n4998  Manufacturing Director          2                        2   \n4999                 Manager          5                        1   \n\n      jobinvolvement  joblevel  jobsatisfaction  Annualincome  \\\n0                  2         4                4            20   \n1                  1         5                4            11   \n2                  2         5                1             9   \n3                  1         2                1             7   \n4                  4         5                2            24   \n...              ...       ...              ...           ...   \n4995               4         3                4            15   \n4996               2         2                1             5   \n4997               3         5                3             6   \n4998               2         3                1            17   \n4999               2         5                2             7   \n\n      relationshipsatisfaction  workinghrsperday  totalworkingyearsexperience  \\\n0                            3                 8                            8   \n1                            2                 8                           24   \n2                            2                 8                           20   \n3                            4                 8                            4   \n4                            1                 8                           16   \n...                        ...               ...                          ...   \n4995                         2                 8                            8   \n4996                         2                 8                           25   \n4997                         3                 8                           18   \n4998                         3                 8                           23   \n4999                         2                 8                           15   \n\n      TrainingTime  WorkLifeBalance  BehaviourialCompetence  OntimeDelivery  \\\n0                5                4                       3               1   \n1                2                4                       5               5   \n2                2                3                       1               5   \n3                4                2                       3               2   \n4                1                3                       2               4   \n...            ...              ...                     ...             ...   \n4995             2                4                       2               5   \n4996             5                3                       5               1   \n4997             2                2                       5               5   \n4998             2                3                       3               2   \n4999             1                3                       3               1   \n\n      TicketSolvingManagements  Projectevlaution Workingfromhomeoroffice  \\\n0                            1                14                  office   \n1                            2                12                    home   \n2                            1                13                  office   \n3                            1                14                  office   \n4                            1                11                    home   \n...                        ...               ...                     ...   \n4995                         2                14                  office   \n4996                         5                 8                  office   \n4997                         1                 5                    home   \n4998                         5                 7                  office   \n4999                         1                13                    home   \n\n      Psychosocialindicators overtime attendance effectedwithcorona  \\\n0                          5       no    present                 no   \n1                          4      yes     absent                 no   \n2                          1       no    present                yes   \n3                          0       no     absent                yes   \n4                          0      yes    present                 no   \n...                      ...      ...        ...                ...   \n4995                       4       no     absent                 no   \n4996                       2       no    present                 no   \n4997                       5       no    present                yes   \n4998                       5      yes     absent                 no   \n4999                       4       no    present                yes   \n\n      PercentSalaryHike Netconnectivity  PerformanceRating  \n0                     6             yes                  1  \n1                     8             yes                  4  \n2                     5             yes                  1  \n3                    12              no                  4  \n4                     9              no                  3  \n...                 ...             ...                ...  \n4995                 11              no                  1  \n4996                  2             yes                  2  \n4997                 13              no                  2  \n4998                 15              no                  3  \n4999                 13             yes                  4  \n\n[5000 rows x 29 columns]",
      "text/html": "<div>\n<style scoped>\n    .dataframe tbody tr th:only-of-type {\n        vertical-align: middle;\n    }\n\n    .dataframe tbody tr th {\n        vertical-align: top;\n    }\n\n    .dataframe thead th {\n        text-align: right;\n    }\n</style>\n<table border=\"1\" class=\"dataframe\">\n  <thead>\n    <tr style=\"text-align: right;\">\n      <th></th>\n      <th>eid</th>\n      <th>age</th>\n      <th>gender</th>\n      <th>maritalstatus</th>\n      <th>department</th>\n      <th>jobrole</th>\n      <th>education</th>\n      <th>environmentsatisfaction</th>\n      <th>jobinvolvement</th>\n      <th>joblevel</th>\n      <th>jobsatisfaction</th>\n      <th>Annualincome</th>\n      <th>relationshipsatisfaction</th>\n      <th>workinghrsperday</th>\n      <th>totalworkingyearsexperience</th>\n      <th>TrainingTime</th>\n      <th>WorkLifeBalance</th>\n      <th>BehaviourialCompetence</th>\n      <th>OntimeDelivery</th>\n      <th>TicketSolvingManagements</th>\n      <th>Projectevlaution</th>\n      <th>Workingfromhomeoroffice</th>\n      <th>Psychosocialindicators</th>\n      <th>overtime</th>\n      <th>attendance</th>\n      <th>effectedwithcorona</th>\n      <th>PercentSalaryHike</th>\n      <th>Netconnectivity</th>\n      <th>PerformanceRating</th>\n    </tr>\n  </thead>\n  <tbody>\n    <tr>\n      <th>0</th>\n      <td>LZJ048</td>\n      <td>49</td>\n      <td>f</td>\n      <td>single</td>\n      <td>Sales</td>\n      <td>Sales Executive</td>\n      <td>4</td>\n      <td>1</td>\n      <td>2</td>\n      <td>4</td>\n      <td>4</td>\n      <td>20</td>\n      <td>3</td>\n      <td>8</td>\n      <td>8</td>\n      <td>5</td>\n      <td>4</td>\n      <td>3</td>\n      <td>1</td>\n      <td>1</td>\n      <td>14</td>\n      <td>office</td>\n      <td>5</td>\n      <td>no</td>\n      <td>present</td>\n      <td>no</td>\n      <td>6</td>\n      <td>yes</td>\n      <td>1</td>\n    </tr>\n    <tr>\n      <th>1</th>\n      <td>pEQ793</td>\n      <td>40</td>\n      <td>f</td>\n      <td>married</td>\n      <td>Sales</td>\n      <td>Sales Executive</td>\n      <td>3</td>\n      <td>4</td>\n      <td>1</td>\n      <td>5</td>\n      <td>4</td>\n      <td>11</td>\n      <td>2</td>\n      <td>8</td>\n      <td>24</td>\n      <td>2</td>\n      <td>4</td>\n      <td>5</td>\n      <td>5</td>\n      <td>2</td>\n      <td>12</td>\n      <td>home</td>\n      <td>4</td>\n      <td>yes</td>\n      <td>absent</td>\n      <td>no</td>\n      <td>8</td>\n      <td>yes</td>\n      <td>4</td>\n    </tr>\n    <tr>\n      <th>2</th>\n      <td>jGb879</td>\n      <td>33</td>\n      <td>f</td>\n      <td>single</td>\n      <td>Sales</td>\n      <td>Sales Executive</td>\n      <td>5</td>\n      <td>4</td>\n      <td>2</td>\n      <td>5</td>\n      <td>1</td>\n      <td>9</td>\n      <td>2</td>\n      <td>8</td>\n      <td>20</td>\n      <td>2</td>\n      <td>3</td>\n      <td>1</td>\n      <td>5</td>\n      <td>1</td>\n      <td>13</td>\n      <td>office</td>\n      <td>1</td>\n      <td>no</td>\n      <td>present</td>\n      <td>yes</td>\n      <td>5</td>\n      <td>yes</td>\n      <td>1</td>\n    </tr>\n    <tr>\n      <th>3</th>\n      <td>HXZ392</td>\n      <td>28</td>\n      <td>f</td>\n      <td>married</td>\n      <td>Human Resources</td>\n      <td>Manager</td>\n      <td>4</td>\n      <td>2</td>\n      <td>1</td>\n      <td>2</td>\n      <td>1</td>\n      <td>7</td>\n      <td>4</td>\n      <td>8</td>\n      <td>4</td>\n      <td>4</td>\n      <td>2</td>\n      <td>3</td>\n      <td>2</td>\n      <td>1</td>\n      <td>14</td>\n      <td>office</td>\n      <td>0</td>\n      <td>no</td>\n      <td>absent</td>\n      <td>yes</td>\n      <td>12</td>\n      <td>no</td>\n      <td>4</td>\n    </tr>\n    <tr>\n      <th>4</th>\n      <td>wTb124</td>\n      <td>45</td>\n      <td>m</td>\n      <td>married</td>\n      <td>Sales</td>\n      <td>Sales Executive</td>\n      <td>2</td>\n      <td>3</td>\n      <td>4</td>\n      <td>5</td>\n      <td>2</td>\n      <td>24</td>\n      <td>1</td>\n      <td>8</td>\n      <td>16</td>\n      <td>1</td>\n      <td>3</td>\n      <td>2</td>\n      <td>4</td>\n      <td>1</td>\n      <td>11</td>\n      <td>home</td>\n      <td>0</td>\n      <td>yes</td>\n      <td>present</td>\n      <td>no</td>\n      <td>9</td>\n      <td>no</td>\n      <td>3</td>\n    </tr>\n    <tr>\n      <th>...</th>\n      <td>...</td>\n      <td>...</td>\n      <td>...</td>\n      <td>...</td>\n      <td>...</td>\n      <td>...</td>\n      <td>...</td>\n      <td>...</td>\n      <td>...</td>\n      <td>...</td>\n      <td>...</td>\n      <td>...</td>\n      <td>...</td>\n      <td>...</td>\n      <td>...</td>\n      <td>...</td>\n      <td>...</td>\n      <td>...</td>\n      <td>...</td>\n      <td>...</td>\n      <td>...</td>\n      <td>...</td>\n      <td>...</td>\n      <td>...</td>\n      <td>...</td>\n      <td>...</td>\n      <td>...</td>\n      <td>...</td>\n      <td>...</td>\n    </tr>\n    <tr>\n      <th>4995</th>\n      <td>lqv086</td>\n      <td>30</td>\n      <td>m</td>\n      <td>single</td>\n      <td>Research &amp; Development</td>\n      <td>Research Scientist</td>\n      <td>5</td>\n      <td>3</td>\n      <td>4</td>\n      <td>3</td>\n      <td>4</td>\n      <td>15</td>\n      <td>2</td>\n      <td>8</td>\n      <td>8</td>\n      <td>2</td>\n      <td>4</td>\n      <td>2</td>\n      <td>5</td>\n      <td>2</td>\n      <td>14</td>\n      <td>office</td>\n      <td>4</td>\n      <td>no</td>\n      <td>absent</td>\n      <td>no</td>\n      <td>11</td>\n      <td>no</td>\n      <td>1</td>\n    </tr>\n    <tr>\n      <th>4996</th>\n      <td>vcu089</td>\n      <td>37</td>\n      <td>m</td>\n      <td>married</td>\n      <td>Sales</td>\n      <td>Sales Executive</td>\n      <td>2</td>\n      <td>1</td>\n      <td>2</td>\n      <td>2</td>\n      <td>1</td>\n      <td>5</td>\n      <td>2</td>\n      <td>8</td>\n      <td>25</td>\n      <td>5</td>\n      <td>3</td>\n      <td>5</td>\n      <td>1</td>\n      <td>5</td>\n      <td>8</td>\n      <td>office</td>\n      <td>2</td>\n      <td>no</td>\n      <td>present</td>\n      <td>no</td>\n      <td>2</td>\n      <td>yes</td>\n      <td>2</td>\n    </tr>\n    <tr>\n      <th>4997</th>\n      <td>lfe187</td>\n      <td>25</td>\n      <td>f</td>\n      <td>single</td>\n      <td>Research &amp; Development</td>\n      <td>Senior Manager R&amp;D</td>\n      <td>2</td>\n      <td>3</td>\n      <td>3</td>\n      <td>5</td>\n      <td>3</td>\n      <td>6</td>\n      <td>3</td>\n      <td>8</td>\n      <td>18</td>\n      <td>2</td>\n      <td>2</td>\n      <td>5</td>\n      <td>5</td>\n      <td>1</td>\n      <td>5</td>\n      <td>home</td>\n      <td>5</td>\n      <td>no</td>\n      <td>present</td>\n      <td>yes</td>\n      <td>13</td>\n      <td>no</td>\n      <td>2</td>\n    </tr>\n    <tr>\n      <th>4998</th>\n      <td>rjL459</td>\n      <td>41</td>\n      <td>m</td>\n      <td>single</td>\n      <td>Research &amp; Development</td>\n      <td>Manufacturing Director</td>\n      <td>2</td>\n      <td>2</td>\n      <td>2</td>\n      <td>3</td>\n      <td>1</td>\n      <td>17</td>\n      <td>3</td>\n      <td>8</td>\n      <td>23</td>\n      <td>2</td>\n      <td>3</td>\n      <td>3</td>\n      <td>2</td>\n      <td>5</td>\n      <td>7</td>\n      <td>office</td>\n      <td>5</td>\n      <td>yes</td>\n      <td>absent</td>\n      <td>no</td>\n      <td>15</td>\n      <td>no</td>\n      <td>3</td>\n    </tr>\n    <tr>\n      <th>4999</th>\n      <td>Gjv118</td>\n      <td>32</td>\n      <td>f</td>\n      <td>single</td>\n      <td>Research &amp; Development</td>\n      <td>Manager</td>\n      <td>5</td>\n      <td>1</td>\n      <td>2</td>\n      <td>5</td>\n      <td>2</td>\n      <td>7</td>\n      <td>2</td>\n      <td>8</td>\n      <td>15</td>\n      <td>1</td>\n      <td>3</td>\n      <td>3</td>\n      <td>1</td>\n      <td>1</td>\n      <td>13</td>\n      <td>home</td>\n      <td>4</td>\n      <td>no</td>\n      <td>present</td>\n      <td>yes</td>\n      <td>13</td>\n      <td>yes</td>\n      <td>4</td>\n    </tr>\n  </tbody>\n</table>\n<p>5000 rows × 29 columns</p>\n</div>"
     },
     "execution_count": 179,
     "metadata": {},
     "output_type": "execute_result"
    }
   ],
   "source": [
    "df"
   ],
   "metadata": {
    "collapsed": false,
    "pycharm": {
     "name": "#%%\n"
    }
   }
  },
  {
   "cell_type": "code",
   "execution_count": 180,
   "outputs": [],
   "source": [
    "col = [\"eid\", \"age\", \"education\", \"environmentsatisfaction\", \"jobinvolvement\", \"joblevel\", \"jobsatisfaction\",\n",
    "        \"Annualincome\", \"relationshipsatisfaction\", \"totalworkingyearsexperience\", \"TrainingTime\",\n",
    "        \"WorkLifeBalance\", \"BehaviourialCompetence\", \"OntimeDelivery\", \"TicketSolvingManagements\",\n",
    "        \"Projectevlaution\", \"Psychosocialindicators\", \"PercentSalaryHike\", \"Netconnectivity\",\n",
    "        \"gender\", \"maritalstatus\", \"department\",\"jobrole\", \"Workingfromhomeoroffice\", \"overtime\",\n",
    "        \"attendance\", \"effectedwithcorona\",  \"workinghrsperday\", \"PerformanceRating\"]\n",
    "df = df.reindex(columns = col)"
   ],
   "metadata": {
    "collapsed": false,
    "pycharm": {
     "name": "#%%\n"
    }
   }
  },
  {
   "cell_type": "code",
   "execution_count": 181,
   "outputs": [
    {
     "data": {
      "text/plain": "         eid  age  education  environmentsatisfaction  jobinvolvement  \\\n0     LZJ048   49          4                        1               2   \n1     pEQ793   40          3                        4               1   \n2     jGb879   33          5                        4               2   \n3     HXZ392   28          4                        2               1   \n4     wTb124   45          2                        3               4   \n...      ...  ...        ...                      ...             ...   \n4995  lqv086   30          5                        3               4   \n4996  vcu089   37          2                        1               2   \n4997  lfe187   25          2                        3               3   \n4998  rjL459   41          2                        2               2   \n4999  Gjv118   32          5                        1               2   \n\n      joblevel  jobsatisfaction  Annualincome  relationshipsatisfaction  \\\n0            4                4            20                         3   \n1            5                4            11                         2   \n2            5                1             9                         2   \n3            2                1             7                         4   \n4            5                2            24                         1   \n...        ...              ...           ...                       ...   \n4995         3                4            15                         2   \n4996         2                1             5                         2   \n4997         5                3             6                         3   \n4998         3                1            17                         3   \n4999         5                2             7                         2   \n\n      totalworkingyearsexperience  TrainingTime  WorkLifeBalance  \\\n0                               8             5                4   \n1                              24             2                4   \n2                              20             2                3   \n3                               4             4                2   \n4                              16             1                3   \n...                           ...           ...              ...   \n4995                            8             2                4   \n4996                           25             5                3   \n4997                           18             2                2   \n4998                           23             2                3   \n4999                           15             1                3   \n\n      BehaviourialCompetence  OntimeDelivery  TicketSolvingManagements  \\\n0                          3               1                         1   \n1                          5               5                         2   \n2                          1               5                         1   \n3                          3               2                         1   \n4                          2               4                         1   \n...                      ...             ...                       ...   \n4995                       2               5                         2   \n4996                       5               1                         5   \n4997                       5               5                         1   \n4998                       3               2                         5   \n4999                       3               1                         1   \n\n      Projectevlaution  Psychosocialindicators  PercentSalaryHike  \\\n0                   14                       5                  6   \n1                   12                       4                  8   \n2                   13                       1                  5   \n3                   14                       0                 12   \n4                   11                       0                  9   \n...                ...                     ...                ...   \n4995                14                       4                 11   \n4996                 8                       2                  2   \n4997                 5                       5                 13   \n4998                 7                       5                 15   \n4999                13                       4                 13   \n\n     Netconnectivity gender maritalstatus              department  \\\n0                yes      f        single                   Sales   \n1                yes      f       married                   Sales   \n2                yes      f        single                   Sales   \n3                 no      f       married         Human Resources   \n4                 no      m       married                   Sales   \n...              ...    ...           ...                     ...   \n4995              no      m        single  Research & Development   \n4996             yes      m       married                   Sales   \n4997              no      f        single  Research & Development   \n4998              no      m        single  Research & Development   \n4999             yes      f        single  Research & Development   \n\n                     jobrole Workingfromhomeoroffice overtime attendance  \\\n0            Sales Executive                  office       no    present   \n1            Sales Executive                    home      yes     absent   \n2            Sales Executive                  office       no    present   \n3                    Manager                  office       no     absent   \n4            Sales Executive                    home      yes    present   \n...                      ...                     ...      ...        ...   \n4995      Research Scientist                  office       no     absent   \n4996         Sales Executive                  office       no    present   \n4997      Senior Manager R&D                    home       no    present   \n4998  Manufacturing Director                  office      yes     absent   \n4999                 Manager                    home       no    present   \n\n     effectedwithcorona  workinghrsperday  PerformanceRating  \n0                    no                 8                  1  \n1                    no                 8                  4  \n2                   yes                 8                  1  \n3                   yes                 8                  4  \n4                    no                 8                  3  \n...                 ...               ...                ...  \n4995                 no                 8                  1  \n4996                 no                 8                  2  \n4997                yes                 8                  2  \n4998                 no                 8                  3  \n4999                yes                 8                  4  \n\n[5000 rows x 29 columns]",
      "text/html": "<div>\n<style scoped>\n    .dataframe tbody tr th:only-of-type {\n        vertical-align: middle;\n    }\n\n    .dataframe tbody tr th {\n        vertical-align: top;\n    }\n\n    .dataframe thead th {\n        text-align: right;\n    }\n</style>\n<table border=\"1\" class=\"dataframe\">\n  <thead>\n    <tr style=\"text-align: right;\">\n      <th></th>\n      <th>eid</th>\n      <th>age</th>\n      <th>education</th>\n      <th>environmentsatisfaction</th>\n      <th>jobinvolvement</th>\n      <th>joblevel</th>\n      <th>jobsatisfaction</th>\n      <th>Annualincome</th>\n      <th>relationshipsatisfaction</th>\n      <th>totalworkingyearsexperience</th>\n      <th>TrainingTime</th>\n      <th>WorkLifeBalance</th>\n      <th>BehaviourialCompetence</th>\n      <th>OntimeDelivery</th>\n      <th>TicketSolvingManagements</th>\n      <th>Projectevlaution</th>\n      <th>Psychosocialindicators</th>\n      <th>PercentSalaryHike</th>\n      <th>Netconnectivity</th>\n      <th>gender</th>\n      <th>maritalstatus</th>\n      <th>department</th>\n      <th>jobrole</th>\n      <th>Workingfromhomeoroffice</th>\n      <th>overtime</th>\n      <th>attendance</th>\n      <th>effectedwithcorona</th>\n      <th>workinghrsperday</th>\n      <th>PerformanceRating</th>\n    </tr>\n  </thead>\n  <tbody>\n    <tr>\n      <th>0</th>\n      <td>LZJ048</td>\n      <td>49</td>\n      <td>4</td>\n      <td>1</td>\n      <td>2</td>\n      <td>4</td>\n      <td>4</td>\n      <td>20</td>\n      <td>3</td>\n      <td>8</td>\n      <td>5</td>\n      <td>4</td>\n      <td>3</td>\n      <td>1</td>\n      <td>1</td>\n      <td>14</td>\n      <td>5</td>\n      <td>6</td>\n      <td>yes</td>\n      <td>f</td>\n      <td>single</td>\n      <td>Sales</td>\n      <td>Sales Executive</td>\n      <td>office</td>\n      <td>no</td>\n      <td>present</td>\n      <td>no</td>\n      <td>8</td>\n      <td>1</td>\n    </tr>\n    <tr>\n      <th>1</th>\n      <td>pEQ793</td>\n      <td>40</td>\n      <td>3</td>\n      <td>4</td>\n      <td>1</td>\n      <td>5</td>\n      <td>4</td>\n      <td>11</td>\n      <td>2</td>\n      <td>24</td>\n      <td>2</td>\n      <td>4</td>\n      <td>5</td>\n      <td>5</td>\n      <td>2</td>\n      <td>12</td>\n      <td>4</td>\n      <td>8</td>\n      <td>yes</td>\n      <td>f</td>\n      <td>married</td>\n      <td>Sales</td>\n      <td>Sales Executive</td>\n      <td>home</td>\n      <td>yes</td>\n      <td>absent</td>\n      <td>no</td>\n      <td>8</td>\n      <td>4</td>\n    </tr>\n    <tr>\n      <th>2</th>\n      <td>jGb879</td>\n      <td>33</td>\n      <td>5</td>\n      <td>4</td>\n      <td>2</td>\n      <td>5</td>\n      <td>1</td>\n      <td>9</td>\n      <td>2</td>\n      <td>20</td>\n      <td>2</td>\n      <td>3</td>\n      <td>1</td>\n      <td>5</td>\n      <td>1</td>\n      <td>13</td>\n      <td>1</td>\n      <td>5</td>\n      <td>yes</td>\n      <td>f</td>\n      <td>single</td>\n      <td>Sales</td>\n      <td>Sales Executive</td>\n      <td>office</td>\n      <td>no</td>\n      <td>present</td>\n      <td>yes</td>\n      <td>8</td>\n      <td>1</td>\n    </tr>\n    <tr>\n      <th>3</th>\n      <td>HXZ392</td>\n      <td>28</td>\n      <td>4</td>\n      <td>2</td>\n      <td>1</td>\n      <td>2</td>\n      <td>1</td>\n      <td>7</td>\n      <td>4</td>\n      <td>4</td>\n      <td>4</td>\n      <td>2</td>\n      <td>3</td>\n      <td>2</td>\n      <td>1</td>\n      <td>14</td>\n      <td>0</td>\n      <td>12</td>\n      <td>no</td>\n      <td>f</td>\n      <td>married</td>\n      <td>Human Resources</td>\n      <td>Manager</td>\n      <td>office</td>\n      <td>no</td>\n      <td>absent</td>\n      <td>yes</td>\n      <td>8</td>\n      <td>4</td>\n    </tr>\n    <tr>\n      <th>4</th>\n      <td>wTb124</td>\n      <td>45</td>\n      <td>2</td>\n      <td>3</td>\n      <td>4</td>\n      <td>5</td>\n      <td>2</td>\n      <td>24</td>\n      <td>1</td>\n      <td>16</td>\n      <td>1</td>\n      <td>3</td>\n      <td>2</td>\n      <td>4</td>\n      <td>1</td>\n      <td>11</td>\n      <td>0</td>\n      <td>9</td>\n      <td>no</td>\n      <td>m</td>\n      <td>married</td>\n      <td>Sales</td>\n      <td>Sales Executive</td>\n      <td>home</td>\n      <td>yes</td>\n      <td>present</td>\n      <td>no</td>\n      <td>8</td>\n      <td>3</td>\n    </tr>\n    <tr>\n      <th>...</th>\n      <td>...</td>\n      <td>...</td>\n      <td>...</td>\n      <td>...</td>\n      <td>...</td>\n      <td>...</td>\n      <td>...</td>\n      <td>...</td>\n      <td>...</td>\n      <td>...</td>\n      <td>...</td>\n      <td>...</td>\n      <td>...</td>\n      <td>...</td>\n      <td>...</td>\n      <td>...</td>\n      <td>...</td>\n      <td>...</td>\n      <td>...</td>\n      <td>...</td>\n      <td>...</td>\n      <td>...</td>\n      <td>...</td>\n      <td>...</td>\n      <td>...</td>\n      <td>...</td>\n      <td>...</td>\n      <td>...</td>\n      <td>...</td>\n    </tr>\n    <tr>\n      <th>4995</th>\n      <td>lqv086</td>\n      <td>30</td>\n      <td>5</td>\n      <td>3</td>\n      <td>4</td>\n      <td>3</td>\n      <td>4</td>\n      <td>15</td>\n      <td>2</td>\n      <td>8</td>\n      <td>2</td>\n      <td>4</td>\n      <td>2</td>\n      <td>5</td>\n      <td>2</td>\n      <td>14</td>\n      <td>4</td>\n      <td>11</td>\n      <td>no</td>\n      <td>m</td>\n      <td>single</td>\n      <td>Research &amp; Development</td>\n      <td>Research Scientist</td>\n      <td>office</td>\n      <td>no</td>\n      <td>absent</td>\n      <td>no</td>\n      <td>8</td>\n      <td>1</td>\n    </tr>\n    <tr>\n      <th>4996</th>\n      <td>vcu089</td>\n      <td>37</td>\n      <td>2</td>\n      <td>1</td>\n      <td>2</td>\n      <td>2</td>\n      <td>1</td>\n      <td>5</td>\n      <td>2</td>\n      <td>25</td>\n      <td>5</td>\n      <td>3</td>\n      <td>5</td>\n      <td>1</td>\n      <td>5</td>\n      <td>8</td>\n      <td>2</td>\n      <td>2</td>\n      <td>yes</td>\n      <td>m</td>\n      <td>married</td>\n      <td>Sales</td>\n      <td>Sales Executive</td>\n      <td>office</td>\n      <td>no</td>\n      <td>present</td>\n      <td>no</td>\n      <td>8</td>\n      <td>2</td>\n    </tr>\n    <tr>\n      <th>4997</th>\n      <td>lfe187</td>\n      <td>25</td>\n      <td>2</td>\n      <td>3</td>\n      <td>3</td>\n      <td>5</td>\n      <td>3</td>\n      <td>6</td>\n      <td>3</td>\n      <td>18</td>\n      <td>2</td>\n      <td>2</td>\n      <td>5</td>\n      <td>5</td>\n      <td>1</td>\n      <td>5</td>\n      <td>5</td>\n      <td>13</td>\n      <td>no</td>\n      <td>f</td>\n      <td>single</td>\n      <td>Research &amp; Development</td>\n      <td>Senior Manager R&amp;D</td>\n      <td>home</td>\n      <td>no</td>\n      <td>present</td>\n      <td>yes</td>\n      <td>8</td>\n      <td>2</td>\n    </tr>\n    <tr>\n      <th>4998</th>\n      <td>rjL459</td>\n      <td>41</td>\n      <td>2</td>\n      <td>2</td>\n      <td>2</td>\n      <td>3</td>\n      <td>1</td>\n      <td>17</td>\n      <td>3</td>\n      <td>23</td>\n      <td>2</td>\n      <td>3</td>\n      <td>3</td>\n      <td>2</td>\n      <td>5</td>\n      <td>7</td>\n      <td>5</td>\n      <td>15</td>\n      <td>no</td>\n      <td>m</td>\n      <td>single</td>\n      <td>Research &amp; Development</td>\n      <td>Manufacturing Director</td>\n      <td>office</td>\n      <td>yes</td>\n      <td>absent</td>\n      <td>no</td>\n      <td>8</td>\n      <td>3</td>\n    </tr>\n    <tr>\n      <th>4999</th>\n      <td>Gjv118</td>\n      <td>32</td>\n      <td>5</td>\n      <td>1</td>\n      <td>2</td>\n      <td>5</td>\n      <td>2</td>\n      <td>7</td>\n      <td>2</td>\n      <td>15</td>\n      <td>1</td>\n      <td>3</td>\n      <td>3</td>\n      <td>1</td>\n      <td>1</td>\n      <td>13</td>\n      <td>4</td>\n      <td>13</td>\n      <td>yes</td>\n      <td>f</td>\n      <td>single</td>\n      <td>Research &amp; Development</td>\n      <td>Manager</td>\n      <td>home</td>\n      <td>no</td>\n      <td>present</td>\n      <td>yes</td>\n      <td>8</td>\n      <td>4</td>\n    </tr>\n  </tbody>\n</table>\n<p>5000 rows × 29 columns</p>\n</div>"
     },
     "execution_count": 181,
     "metadata": {},
     "output_type": "execute_result"
    }
   ],
   "source": [
    "df"
   ],
   "metadata": {
    "collapsed": false,
    "pycharm": {
     "name": "#%%\n"
    }
   }
  },
  {
   "cell_type": "code",
   "execution_count": 182,
   "outputs": [
    {
     "data": {
      "text/plain": "(5000, 29)"
     },
     "execution_count": 182,
     "metadata": {},
     "output_type": "execute_result"
    }
   ],
   "source": [
    "df.shape"
   ],
   "metadata": {
    "collapsed": false,
    "pycharm": {
     "name": "#%%\n"
    }
   }
  },
  {
   "cell_type": "code",
   "execution_count": 183,
   "outputs": [
    {
     "data": {
      "text/plain": "Index(['age', 'education', 'environmentsatisfaction', 'jobinvolvement',\n       'joblevel', 'jobsatisfaction', 'Annualincome',\n       'relationshipsatisfaction', 'totalworkingyearsexperience',\n       'TrainingTime', 'WorkLifeBalance', 'BehaviourialCompetence',\n       'OntimeDelivery', 'TicketSolvingManagements', 'Projectevlaution',\n       'Psychosocialindicators', 'PercentSalaryHike', 'Netconnectivity',\n       'gender', 'maritalstatus', 'department', 'jobrole',\n       'Workingfromhomeoroffice', 'overtime', 'attendance',\n       'effectedwithcorona', 'PerformanceRating'],\n      dtype='object')"
     },
     "execution_count": 183,
     "metadata": {},
     "output_type": "execute_result"
    }
   ],
   "source": [
    "df = df.drop(['eid','workinghrsperday'], axis = 1)\n",
    "df.columns"
   ],
   "metadata": {
    "collapsed": false,
    "pycharm": {
     "name": "#%%\n"
    }
   }
  },
  {
   "cell_type": "code",
   "execution_count": 184,
   "outputs": [],
   "source": [
    "features = df.drop(columns = [\"PerformanceRating\"], axis = 1).columns\n",
    "pickle.dump(features, open(\"features.pkl\", \"wb\"))"
   ],
   "metadata": {
    "collapsed": false,
    "pycharm": {
     "name": "#%%\n"
    }
   }
  },
  {
   "cell_type": "code",
   "execution_count": 185,
   "outputs": [
    {
     "data": {
      "text/plain": "Index(['age', 'education', 'environmentsatisfaction', 'jobinvolvement',\n       'joblevel', 'jobsatisfaction', 'Annualincome',\n       'relationshipsatisfaction', 'totalworkingyearsexperience',\n       'TrainingTime', 'WorkLifeBalance', 'BehaviourialCompetence',\n       'OntimeDelivery', 'TicketSolvingManagements', 'Projectevlaution',\n       'Psychosocialindicators', 'PercentSalaryHike', 'Netconnectivity',\n       'gender', 'maritalstatus', 'department', 'jobrole',\n       'Workingfromhomeoroffice', 'overtime', 'attendance',\n       'effectedwithcorona'],\n      dtype='object')"
     },
     "execution_count": 185,
     "metadata": {},
     "output_type": "execute_result"
    }
   ],
   "source": [
    "features"
   ],
   "metadata": {
    "collapsed": false,
    "pycharm": {
     "name": "#%%\n"
    }
   }
  },
  {
   "cell_type": "code",
   "execution_count": 186,
   "outputs": [],
   "source": [
    "cols_encode = [\"Netconnectivity\", \"gender\", \"maritalstatus\", \"department\", \"jobrole\",\n",
    "                \"Workingfromhomeoroffice\", \"overtime\", \"attendance\", \"effectedwithcorona\"]"
   ],
   "metadata": {
    "collapsed": false,
    "pycharm": {
     "name": "#%%\n"
    }
   }
  },
  {
   "cell_type": "code",
   "execution_count": 187,
   "outputs": [],
   "source": [
    "enc_label = OneHotEncoder(sparse= False).fit(df.loc[:, cols_encode])\n",
    "pickle.dump(enc_label, open(\"encoder.pkl\", \"wb\"))"
   ],
   "metadata": {
    "collapsed": false,
    "pycharm": {
     "name": "#%%\n"
    }
   }
  },
  {
   "cell_type": "code",
   "execution_count": 188,
   "outputs": [
    {
     "data": {
      "text/plain": "array(['Netconnectivity_no', 'Netconnectivity_yes', 'gender_f',\n       'gender_m', 'maritalstatus_married', 'maritalstatus_single',\n       'department_Data Science', 'department_Development',\n       'department_Finance', 'department_Human Resources',\n       'department_Research & Development', 'department_Sales',\n       'jobrole_Business Analyst', 'jobrole_Data Scientist',\n       'jobrole_Delivery Manager', 'jobrole_Developer',\n       'jobrole_Finance Manager', 'jobrole_Healthcare Representative',\n       'jobrole_Human Resources', 'jobrole_Laboratory Technician',\n       'jobrole_Manager', 'jobrole_Manager R&D',\n       'jobrole_Manufacturing Director', 'jobrole_Research Director',\n       'jobrole_Research Scientist', 'jobrole_Sales Executive',\n       'jobrole_Sales Representative', 'jobrole_Senior Developer',\n       'jobrole_Senior Manager R&D', 'jobrole_Technical Architect',\n       'jobrole_Technical Lead', 'Workingfromhomeoroffice_home',\n       'Workingfromhomeoroffice_office', 'overtime_no', 'overtime_yes',\n       'attendance_absent', 'attendance_present', 'effectedwithcorona_no',\n       'effectedwithcorona_yes'], dtype=object)"
     },
     "execution_count": 188,
     "metadata": {},
     "output_type": "execute_result"
    }
   ],
   "source": [
    "column_names = enc_label.get_feature_names_out(cols_encode)\n",
    "column_names"
   ],
   "metadata": {
    "collapsed": false,
    "pycharm": {
     "name": "#%%\n"
    }
   }
  },
  {
   "cell_type": "code",
   "execution_count": 189,
   "outputs": [],
   "source": [
    "enc_df = pd.DataFrame(enc_label.transform(df.loc[:, cols_encode]), columns= column_names)"
   ],
   "metadata": {
    "collapsed": false,
    "pycharm": {
     "name": "#%%\n"
    }
   }
  },
  {
   "cell_type": "code",
   "execution_count": 190,
   "outputs": [
    {
     "data": {
      "text/plain": "      Netconnectivity_no  Netconnectivity_yes  gender_f  gender_m  \\\n0                    0.0                  1.0       1.0       0.0   \n1                    0.0                  1.0       1.0       0.0   \n2                    0.0                  1.0       1.0       0.0   \n3                    1.0                  0.0       1.0       0.0   \n4                    1.0                  0.0       0.0       1.0   \n...                  ...                  ...       ...       ...   \n4995                 1.0                  0.0       0.0       1.0   \n4996                 0.0                  1.0       0.0       1.0   \n4997                 1.0                  0.0       1.0       0.0   \n4998                 1.0                  0.0       0.0       1.0   \n4999                 0.0                  1.0       1.0       0.0   \n\n      maritalstatus_married  maritalstatus_single  department_Data Science  \\\n0                       0.0                   1.0                      0.0   \n1                       1.0                   0.0                      0.0   \n2                       0.0                   1.0                      0.0   \n3                       1.0                   0.0                      0.0   \n4                       1.0                   0.0                      0.0   \n...                     ...                   ...                      ...   \n4995                    0.0                   1.0                      0.0   \n4996                    1.0                   0.0                      0.0   \n4997                    0.0                   1.0                      0.0   \n4998                    0.0                   1.0                      0.0   \n4999                    0.0                   1.0                      0.0   \n\n      department_Development  department_Finance  department_Human Resources  \\\n0                        0.0                 0.0                         0.0   \n1                        0.0                 0.0                         0.0   \n2                        0.0                 0.0                         0.0   \n3                        0.0                 0.0                         1.0   \n4                        0.0                 0.0                         0.0   \n...                      ...                 ...                         ...   \n4995                     0.0                 0.0                         0.0   \n4996                     0.0                 0.0                         0.0   \n4997                     0.0                 0.0                         0.0   \n4998                     0.0                 0.0                         0.0   \n4999                     0.0                 0.0                         0.0   \n\n      department_Research & Development  department_Sales  \\\n0                                   0.0               1.0   \n1                                   0.0               1.0   \n2                                   0.0               1.0   \n3                                   0.0               0.0   \n4                                   0.0               1.0   \n...                                 ...               ...   \n4995                                1.0               0.0   \n4996                                0.0               1.0   \n4997                                1.0               0.0   \n4998                                1.0               0.0   \n4999                                1.0               0.0   \n\n      jobrole_Business Analyst  jobrole_Data Scientist  \\\n0                          0.0                     0.0   \n1                          0.0                     0.0   \n2                          0.0                     0.0   \n3                          0.0                     0.0   \n4                          0.0                     0.0   \n...                        ...                     ...   \n4995                       0.0                     0.0   \n4996                       0.0                     0.0   \n4997                       0.0                     0.0   \n4998                       0.0                     0.0   \n4999                       0.0                     0.0   \n\n      jobrole_Delivery Manager  jobrole_Developer  jobrole_Finance Manager  \\\n0                          0.0                0.0                      0.0   \n1                          0.0                0.0                      0.0   \n2                          0.0                0.0                      0.0   \n3                          0.0                0.0                      0.0   \n4                          0.0                0.0                      0.0   \n...                        ...                ...                      ...   \n4995                       0.0                0.0                      0.0   \n4996                       0.0                0.0                      0.0   \n4997                       0.0                0.0                      0.0   \n4998                       0.0                0.0                      0.0   \n4999                       0.0                0.0                      0.0   \n\n      jobrole_Healthcare Representative  jobrole_Human Resources  \\\n0                                   0.0                      0.0   \n1                                   0.0                      0.0   \n2                                   0.0                      0.0   \n3                                   0.0                      0.0   \n4                                   0.0                      0.0   \n...                                 ...                      ...   \n4995                                0.0                      0.0   \n4996                                0.0                      0.0   \n4997                                0.0                      0.0   \n4998                                0.0                      0.0   \n4999                                0.0                      0.0   \n\n      jobrole_Laboratory Technician  jobrole_Manager  jobrole_Manager R&D  \\\n0                               0.0              0.0                  0.0   \n1                               0.0              0.0                  0.0   \n2                               0.0              0.0                  0.0   \n3                               0.0              1.0                  0.0   \n4                               0.0              0.0                  0.0   \n...                             ...              ...                  ...   \n4995                            0.0              0.0                  0.0   \n4996                            0.0              0.0                  0.0   \n4997                            0.0              0.0                  0.0   \n4998                            0.0              0.0                  0.0   \n4999                            0.0              1.0                  0.0   \n\n      jobrole_Manufacturing Director  jobrole_Research Director  \\\n0                                0.0                        0.0   \n1                                0.0                        0.0   \n2                                0.0                        0.0   \n3                                0.0                        0.0   \n4                                0.0                        0.0   \n...                              ...                        ...   \n4995                             0.0                        0.0   \n4996                             0.0                        0.0   \n4997                             0.0                        0.0   \n4998                             1.0                        0.0   \n4999                             0.0                        0.0   \n\n      jobrole_Research Scientist  jobrole_Sales Executive  \\\n0                            0.0                      1.0   \n1                            0.0                      1.0   \n2                            0.0                      1.0   \n3                            0.0                      0.0   \n4                            0.0                      1.0   \n...                          ...                      ...   \n4995                         1.0                      0.0   \n4996                         0.0                      1.0   \n4997                         0.0                      0.0   \n4998                         0.0                      0.0   \n4999                         0.0                      0.0   \n\n      jobrole_Sales Representative  jobrole_Senior Developer  \\\n0                              0.0                       0.0   \n1                              0.0                       0.0   \n2                              0.0                       0.0   \n3                              0.0                       0.0   \n4                              0.0                       0.0   \n...                            ...                       ...   \n4995                           0.0                       0.0   \n4996                           0.0                       0.0   \n4997                           0.0                       0.0   \n4998                           0.0                       0.0   \n4999                           0.0                       0.0   \n\n      jobrole_Senior Manager R&D  jobrole_Technical Architect  \\\n0                            0.0                          0.0   \n1                            0.0                          0.0   \n2                            0.0                          0.0   \n3                            0.0                          0.0   \n4                            0.0                          0.0   \n...                          ...                          ...   \n4995                         0.0                          0.0   \n4996                         0.0                          0.0   \n4997                         1.0                          0.0   \n4998                         0.0                          0.0   \n4999                         0.0                          0.0   \n\n      jobrole_Technical Lead  Workingfromhomeoroffice_home  \\\n0                        0.0                           0.0   \n1                        0.0                           1.0   \n2                        0.0                           0.0   \n3                        0.0                           0.0   \n4                        0.0                           1.0   \n...                      ...                           ...   \n4995                     0.0                           0.0   \n4996                     0.0                           0.0   \n4997                     0.0                           1.0   \n4998                     0.0                           0.0   \n4999                     0.0                           1.0   \n\n      Workingfromhomeoroffice_office  overtime_no  overtime_yes  \\\n0                                1.0          1.0           0.0   \n1                                0.0          0.0           1.0   \n2                                1.0          1.0           0.0   \n3                                1.0          1.0           0.0   \n4                                0.0          0.0           1.0   \n...                              ...          ...           ...   \n4995                             1.0          1.0           0.0   \n4996                             1.0          1.0           0.0   \n4997                             0.0          1.0           0.0   \n4998                             1.0          0.0           1.0   \n4999                             0.0          1.0           0.0   \n\n      attendance_absent  attendance_present  effectedwithcorona_no  \\\n0                   0.0                 1.0                    1.0   \n1                   1.0                 0.0                    1.0   \n2                   0.0                 1.0                    0.0   \n3                   1.0                 0.0                    0.0   \n4                   0.0                 1.0                    1.0   \n...                 ...                 ...                    ...   \n4995                1.0                 0.0                    1.0   \n4996                0.0                 1.0                    1.0   \n4997                0.0                 1.0                    0.0   \n4998                1.0                 0.0                    1.0   \n4999                0.0                 1.0                    0.0   \n\n      effectedwithcorona_yes  \n0                        0.0  \n1                        0.0  \n2                        1.0  \n3                        1.0  \n4                        0.0  \n...                      ...  \n4995                     0.0  \n4996                     0.0  \n4997                     1.0  \n4998                     0.0  \n4999                     1.0  \n\n[5000 rows x 39 columns]",
      "text/html": "<div>\n<style scoped>\n    .dataframe tbody tr th:only-of-type {\n        vertical-align: middle;\n    }\n\n    .dataframe tbody tr th {\n        vertical-align: top;\n    }\n\n    .dataframe thead th {\n        text-align: right;\n    }\n</style>\n<table border=\"1\" class=\"dataframe\">\n  <thead>\n    <tr style=\"text-align: right;\">\n      <th></th>\n      <th>Netconnectivity_no</th>\n      <th>Netconnectivity_yes</th>\n      <th>gender_f</th>\n      <th>gender_m</th>\n      <th>maritalstatus_married</th>\n      <th>maritalstatus_single</th>\n      <th>department_Data Science</th>\n      <th>department_Development</th>\n      <th>department_Finance</th>\n      <th>department_Human Resources</th>\n      <th>department_Research &amp; Development</th>\n      <th>department_Sales</th>\n      <th>jobrole_Business Analyst</th>\n      <th>jobrole_Data Scientist</th>\n      <th>jobrole_Delivery Manager</th>\n      <th>jobrole_Developer</th>\n      <th>jobrole_Finance Manager</th>\n      <th>jobrole_Healthcare Representative</th>\n      <th>jobrole_Human Resources</th>\n      <th>jobrole_Laboratory Technician</th>\n      <th>jobrole_Manager</th>\n      <th>jobrole_Manager R&amp;D</th>\n      <th>jobrole_Manufacturing Director</th>\n      <th>jobrole_Research Director</th>\n      <th>jobrole_Research Scientist</th>\n      <th>jobrole_Sales Executive</th>\n      <th>jobrole_Sales Representative</th>\n      <th>jobrole_Senior Developer</th>\n      <th>jobrole_Senior Manager R&amp;D</th>\n      <th>jobrole_Technical Architect</th>\n      <th>jobrole_Technical Lead</th>\n      <th>Workingfromhomeoroffice_home</th>\n      <th>Workingfromhomeoroffice_office</th>\n      <th>overtime_no</th>\n      <th>overtime_yes</th>\n      <th>attendance_absent</th>\n      <th>attendance_present</th>\n      <th>effectedwithcorona_no</th>\n      <th>effectedwithcorona_yes</th>\n    </tr>\n  </thead>\n  <tbody>\n    <tr>\n      <th>0</th>\n      <td>0.0</td>\n      <td>1.0</td>\n      <td>1.0</td>\n      <td>0.0</td>\n      <td>0.0</td>\n      <td>1.0</td>\n      <td>0.0</td>\n      <td>0.0</td>\n      <td>0.0</td>\n      <td>0.0</td>\n      <td>0.0</td>\n      <td>1.0</td>\n      <td>0.0</td>\n      <td>0.0</td>\n      <td>0.0</td>\n      <td>0.0</td>\n      <td>0.0</td>\n      <td>0.0</td>\n      <td>0.0</td>\n      <td>0.0</td>\n      <td>0.0</td>\n      <td>0.0</td>\n      <td>0.0</td>\n      <td>0.0</td>\n      <td>0.0</td>\n      <td>1.0</td>\n      <td>0.0</td>\n      <td>0.0</td>\n      <td>0.0</td>\n      <td>0.0</td>\n      <td>0.0</td>\n      <td>0.0</td>\n      <td>1.0</td>\n      <td>1.0</td>\n      <td>0.0</td>\n      <td>0.0</td>\n      <td>1.0</td>\n      <td>1.0</td>\n      <td>0.0</td>\n    </tr>\n    <tr>\n      <th>1</th>\n      <td>0.0</td>\n      <td>1.0</td>\n      <td>1.0</td>\n      <td>0.0</td>\n      <td>1.0</td>\n      <td>0.0</td>\n      <td>0.0</td>\n      <td>0.0</td>\n      <td>0.0</td>\n      <td>0.0</td>\n      <td>0.0</td>\n      <td>1.0</td>\n      <td>0.0</td>\n      <td>0.0</td>\n      <td>0.0</td>\n      <td>0.0</td>\n      <td>0.0</td>\n      <td>0.0</td>\n      <td>0.0</td>\n      <td>0.0</td>\n      <td>0.0</td>\n      <td>0.0</td>\n      <td>0.0</td>\n      <td>0.0</td>\n      <td>0.0</td>\n      <td>1.0</td>\n      <td>0.0</td>\n      <td>0.0</td>\n      <td>0.0</td>\n      <td>0.0</td>\n      <td>0.0</td>\n      <td>1.0</td>\n      <td>0.0</td>\n      <td>0.0</td>\n      <td>1.0</td>\n      <td>1.0</td>\n      <td>0.0</td>\n      <td>1.0</td>\n      <td>0.0</td>\n    </tr>\n    <tr>\n      <th>2</th>\n      <td>0.0</td>\n      <td>1.0</td>\n      <td>1.0</td>\n      <td>0.0</td>\n      <td>0.0</td>\n      <td>1.0</td>\n      <td>0.0</td>\n      <td>0.0</td>\n      <td>0.0</td>\n      <td>0.0</td>\n      <td>0.0</td>\n      <td>1.0</td>\n      <td>0.0</td>\n      <td>0.0</td>\n      <td>0.0</td>\n      <td>0.0</td>\n      <td>0.0</td>\n      <td>0.0</td>\n      <td>0.0</td>\n      <td>0.0</td>\n      <td>0.0</td>\n      <td>0.0</td>\n      <td>0.0</td>\n      <td>0.0</td>\n      <td>0.0</td>\n      <td>1.0</td>\n      <td>0.0</td>\n      <td>0.0</td>\n      <td>0.0</td>\n      <td>0.0</td>\n      <td>0.0</td>\n      <td>0.0</td>\n      <td>1.0</td>\n      <td>1.0</td>\n      <td>0.0</td>\n      <td>0.0</td>\n      <td>1.0</td>\n      <td>0.0</td>\n      <td>1.0</td>\n    </tr>\n    <tr>\n      <th>3</th>\n      <td>1.0</td>\n      <td>0.0</td>\n      <td>1.0</td>\n      <td>0.0</td>\n      <td>1.0</td>\n      <td>0.0</td>\n      <td>0.0</td>\n      <td>0.0</td>\n      <td>0.0</td>\n      <td>1.0</td>\n      <td>0.0</td>\n      <td>0.0</td>\n      <td>0.0</td>\n      <td>0.0</td>\n      <td>0.0</td>\n      <td>0.0</td>\n      <td>0.0</td>\n      <td>0.0</td>\n      <td>0.0</td>\n      <td>0.0</td>\n      <td>1.0</td>\n      <td>0.0</td>\n      <td>0.0</td>\n      <td>0.0</td>\n      <td>0.0</td>\n      <td>0.0</td>\n      <td>0.0</td>\n      <td>0.0</td>\n      <td>0.0</td>\n      <td>0.0</td>\n      <td>0.0</td>\n      <td>0.0</td>\n      <td>1.0</td>\n      <td>1.0</td>\n      <td>0.0</td>\n      <td>1.0</td>\n      <td>0.0</td>\n      <td>0.0</td>\n      <td>1.0</td>\n    </tr>\n    <tr>\n      <th>4</th>\n      <td>1.0</td>\n      <td>0.0</td>\n      <td>0.0</td>\n      <td>1.0</td>\n      <td>1.0</td>\n      <td>0.0</td>\n      <td>0.0</td>\n      <td>0.0</td>\n      <td>0.0</td>\n      <td>0.0</td>\n      <td>0.0</td>\n      <td>1.0</td>\n      <td>0.0</td>\n      <td>0.0</td>\n      <td>0.0</td>\n      <td>0.0</td>\n      <td>0.0</td>\n      <td>0.0</td>\n      <td>0.0</td>\n      <td>0.0</td>\n      <td>0.0</td>\n      <td>0.0</td>\n      <td>0.0</td>\n      <td>0.0</td>\n      <td>0.0</td>\n      <td>1.0</td>\n      <td>0.0</td>\n      <td>0.0</td>\n      <td>0.0</td>\n      <td>0.0</td>\n      <td>0.0</td>\n      <td>1.0</td>\n      <td>0.0</td>\n      <td>0.0</td>\n      <td>1.0</td>\n      <td>0.0</td>\n      <td>1.0</td>\n      <td>1.0</td>\n      <td>0.0</td>\n    </tr>\n    <tr>\n      <th>...</th>\n      <td>...</td>\n      <td>...</td>\n      <td>...</td>\n      <td>...</td>\n      <td>...</td>\n      <td>...</td>\n      <td>...</td>\n      <td>...</td>\n      <td>...</td>\n      <td>...</td>\n      <td>...</td>\n      <td>...</td>\n      <td>...</td>\n      <td>...</td>\n      <td>...</td>\n      <td>...</td>\n      <td>...</td>\n      <td>...</td>\n      <td>...</td>\n      <td>...</td>\n      <td>...</td>\n      <td>...</td>\n      <td>...</td>\n      <td>...</td>\n      <td>...</td>\n      <td>...</td>\n      <td>...</td>\n      <td>...</td>\n      <td>...</td>\n      <td>...</td>\n      <td>...</td>\n      <td>...</td>\n      <td>...</td>\n      <td>...</td>\n      <td>...</td>\n      <td>...</td>\n      <td>...</td>\n      <td>...</td>\n      <td>...</td>\n    </tr>\n    <tr>\n      <th>4995</th>\n      <td>1.0</td>\n      <td>0.0</td>\n      <td>0.0</td>\n      <td>1.0</td>\n      <td>0.0</td>\n      <td>1.0</td>\n      <td>0.0</td>\n      <td>0.0</td>\n      <td>0.0</td>\n      <td>0.0</td>\n      <td>1.0</td>\n      <td>0.0</td>\n      <td>0.0</td>\n      <td>0.0</td>\n      <td>0.0</td>\n      <td>0.0</td>\n      <td>0.0</td>\n      <td>0.0</td>\n      <td>0.0</td>\n      <td>0.0</td>\n      <td>0.0</td>\n      <td>0.0</td>\n      <td>0.0</td>\n      <td>0.0</td>\n      <td>1.0</td>\n      <td>0.0</td>\n      <td>0.0</td>\n      <td>0.0</td>\n      <td>0.0</td>\n      <td>0.0</td>\n      <td>0.0</td>\n      <td>0.0</td>\n      <td>1.0</td>\n      <td>1.0</td>\n      <td>0.0</td>\n      <td>1.0</td>\n      <td>0.0</td>\n      <td>1.0</td>\n      <td>0.0</td>\n    </tr>\n    <tr>\n      <th>4996</th>\n      <td>0.0</td>\n      <td>1.0</td>\n      <td>0.0</td>\n      <td>1.0</td>\n      <td>1.0</td>\n      <td>0.0</td>\n      <td>0.0</td>\n      <td>0.0</td>\n      <td>0.0</td>\n      <td>0.0</td>\n      <td>0.0</td>\n      <td>1.0</td>\n      <td>0.0</td>\n      <td>0.0</td>\n      <td>0.0</td>\n      <td>0.0</td>\n      <td>0.0</td>\n      <td>0.0</td>\n      <td>0.0</td>\n      <td>0.0</td>\n      <td>0.0</td>\n      <td>0.0</td>\n      <td>0.0</td>\n      <td>0.0</td>\n      <td>0.0</td>\n      <td>1.0</td>\n      <td>0.0</td>\n      <td>0.0</td>\n      <td>0.0</td>\n      <td>0.0</td>\n      <td>0.0</td>\n      <td>0.0</td>\n      <td>1.0</td>\n      <td>1.0</td>\n      <td>0.0</td>\n      <td>0.0</td>\n      <td>1.0</td>\n      <td>1.0</td>\n      <td>0.0</td>\n    </tr>\n    <tr>\n      <th>4997</th>\n      <td>1.0</td>\n      <td>0.0</td>\n      <td>1.0</td>\n      <td>0.0</td>\n      <td>0.0</td>\n      <td>1.0</td>\n      <td>0.0</td>\n      <td>0.0</td>\n      <td>0.0</td>\n      <td>0.0</td>\n      <td>1.0</td>\n      <td>0.0</td>\n      <td>0.0</td>\n      <td>0.0</td>\n      <td>0.0</td>\n      <td>0.0</td>\n      <td>0.0</td>\n      <td>0.0</td>\n      <td>0.0</td>\n      <td>0.0</td>\n      <td>0.0</td>\n      <td>0.0</td>\n      <td>0.0</td>\n      <td>0.0</td>\n      <td>0.0</td>\n      <td>0.0</td>\n      <td>0.0</td>\n      <td>0.0</td>\n      <td>1.0</td>\n      <td>0.0</td>\n      <td>0.0</td>\n      <td>1.0</td>\n      <td>0.0</td>\n      <td>1.0</td>\n      <td>0.0</td>\n      <td>0.0</td>\n      <td>1.0</td>\n      <td>0.0</td>\n      <td>1.0</td>\n    </tr>\n    <tr>\n      <th>4998</th>\n      <td>1.0</td>\n      <td>0.0</td>\n      <td>0.0</td>\n      <td>1.0</td>\n      <td>0.0</td>\n      <td>1.0</td>\n      <td>0.0</td>\n      <td>0.0</td>\n      <td>0.0</td>\n      <td>0.0</td>\n      <td>1.0</td>\n      <td>0.0</td>\n      <td>0.0</td>\n      <td>0.0</td>\n      <td>0.0</td>\n      <td>0.0</td>\n      <td>0.0</td>\n      <td>0.0</td>\n      <td>0.0</td>\n      <td>0.0</td>\n      <td>0.0</td>\n      <td>0.0</td>\n      <td>1.0</td>\n      <td>0.0</td>\n      <td>0.0</td>\n      <td>0.0</td>\n      <td>0.0</td>\n      <td>0.0</td>\n      <td>0.0</td>\n      <td>0.0</td>\n      <td>0.0</td>\n      <td>0.0</td>\n      <td>1.0</td>\n      <td>0.0</td>\n      <td>1.0</td>\n      <td>1.0</td>\n      <td>0.0</td>\n      <td>1.0</td>\n      <td>0.0</td>\n    </tr>\n    <tr>\n      <th>4999</th>\n      <td>0.0</td>\n      <td>1.0</td>\n      <td>1.0</td>\n      <td>0.0</td>\n      <td>0.0</td>\n      <td>1.0</td>\n      <td>0.0</td>\n      <td>0.0</td>\n      <td>0.0</td>\n      <td>0.0</td>\n      <td>1.0</td>\n      <td>0.0</td>\n      <td>0.0</td>\n      <td>0.0</td>\n      <td>0.0</td>\n      <td>0.0</td>\n      <td>0.0</td>\n      <td>0.0</td>\n      <td>0.0</td>\n      <td>0.0</td>\n      <td>1.0</td>\n      <td>0.0</td>\n      <td>0.0</td>\n      <td>0.0</td>\n      <td>0.0</td>\n      <td>0.0</td>\n      <td>0.0</td>\n      <td>0.0</td>\n      <td>0.0</td>\n      <td>0.0</td>\n      <td>0.0</td>\n      <td>1.0</td>\n      <td>0.0</td>\n      <td>1.0</td>\n      <td>0.0</td>\n      <td>0.0</td>\n      <td>1.0</td>\n      <td>0.0</td>\n      <td>1.0</td>\n    </tr>\n  </tbody>\n</table>\n<p>5000 rows × 39 columns</p>\n</div>"
     },
     "execution_count": 190,
     "metadata": {},
     "output_type": "execute_result"
    }
   ],
   "source": [
    "enc_df"
   ],
   "metadata": {
    "collapsed": false,
    "pycharm": {
     "name": "#%%\n"
    }
   }
  },
  {
   "cell_type": "code",
   "execution_count": 191,
   "outputs": [],
   "source": [
    "df = df.drop(columns = cols_encode, axis = 1)\n",
    "df = pd.concat([df, enc_df], axis = 1)"
   ],
   "metadata": {
    "collapsed": false,
    "pycharm": {
     "name": "#%%\n"
    }
   }
  },
  {
   "cell_type": "code",
   "execution_count": 192,
   "outputs": [
    {
     "data": {
      "text/plain": "      age  education  environmentsatisfaction  jobinvolvement  joblevel  \\\n0      49          4                        1               2         4   \n1      40          3                        4               1         5   \n2      33          5                        4               2         5   \n3      28          4                        2               1         2   \n4      45          2                        3               4         5   \n...   ...        ...                      ...             ...       ...   \n4995   30          5                        3               4         3   \n4996   37          2                        1               2         2   \n4997   25          2                        3               3         5   \n4998   41          2                        2               2         3   \n4999   32          5                        1               2         5   \n\n      jobsatisfaction  Annualincome  relationshipsatisfaction  \\\n0                   4            20                         3   \n1                   4            11                         2   \n2                   1             9                         2   \n3                   1             7                         4   \n4                   2            24                         1   \n...               ...           ...                       ...   \n4995                4            15                         2   \n4996                1             5                         2   \n4997                3             6                         3   \n4998                1            17                         3   \n4999                2             7                         2   \n\n      totalworkingyearsexperience  TrainingTime  WorkLifeBalance  \\\n0                               8             5                4   \n1                              24             2                4   \n2                              20             2                3   \n3                               4             4                2   \n4                              16             1                3   \n...                           ...           ...              ...   \n4995                            8             2                4   \n4996                           25             5                3   \n4997                           18             2                2   \n4998                           23             2                3   \n4999                           15             1                3   \n\n      BehaviourialCompetence  OntimeDelivery  TicketSolvingManagements  \\\n0                          3               1                         1   \n1                          5               5                         2   \n2                          1               5                         1   \n3                          3               2                         1   \n4                          2               4                         1   \n...                      ...             ...                       ...   \n4995                       2               5                         2   \n4996                       5               1                         5   \n4997                       5               5                         1   \n4998                       3               2                         5   \n4999                       3               1                         1   \n\n      Projectevlaution  Psychosocialindicators  PercentSalaryHike  \\\n0                   14                       5                  6   \n1                   12                       4                  8   \n2                   13                       1                  5   \n3                   14                       0                 12   \n4                   11                       0                  9   \n...                ...                     ...                ...   \n4995                14                       4                 11   \n4996                 8                       2                  2   \n4997                 5                       5                 13   \n4998                 7                       5                 15   \n4999                13                       4                 13   \n\n      PerformanceRating  Netconnectivity_no  Netconnectivity_yes  gender_f  \\\n0                     1                 0.0                  1.0       1.0   \n1                     4                 0.0                  1.0       1.0   \n2                     1                 0.0                  1.0       1.0   \n3                     4                 1.0                  0.0       1.0   \n4                     3                 1.0                  0.0       0.0   \n...                 ...                 ...                  ...       ...   \n4995                  1                 1.0                  0.0       0.0   \n4996                  2                 0.0                  1.0       0.0   \n4997                  2                 1.0                  0.0       1.0   \n4998                  3                 1.0                  0.0       0.0   \n4999                  4                 0.0                  1.0       1.0   \n\n      gender_m  maritalstatus_married  maritalstatus_single  \\\n0          0.0                    0.0                   1.0   \n1          0.0                    1.0                   0.0   \n2          0.0                    0.0                   1.0   \n3          0.0                    1.0                   0.0   \n4          1.0                    1.0                   0.0   \n...        ...                    ...                   ...   \n4995       1.0                    0.0                   1.0   \n4996       1.0                    1.0                   0.0   \n4997       0.0                    0.0                   1.0   \n4998       1.0                    0.0                   1.0   \n4999       0.0                    0.0                   1.0   \n\n      department_Data Science  department_Development  department_Finance  \\\n0                         0.0                     0.0                 0.0   \n1                         0.0                     0.0                 0.0   \n2                         0.0                     0.0                 0.0   \n3                         0.0                     0.0                 0.0   \n4                         0.0                     0.0                 0.0   \n...                       ...                     ...                 ...   \n4995                      0.0                     0.0                 0.0   \n4996                      0.0                     0.0                 0.0   \n4997                      0.0                     0.0                 0.0   \n4998                      0.0                     0.0                 0.0   \n4999                      0.0                     0.0                 0.0   \n\n      department_Human Resources  department_Research & Development  \\\n0                            0.0                                0.0   \n1                            0.0                                0.0   \n2                            0.0                                0.0   \n3                            1.0                                0.0   \n4                            0.0                                0.0   \n...                          ...                                ...   \n4995                         0.0                                1.0   \n4996                         0.0                                0.0   \n4997                         0.0                                1.0   \n4998                         0.0                                1.0   \n4999                         0.0                                1.0   \n\n      department_Sales  jobrole_Business Analyst  jobrole_Data Scientist  \\\n0                  1.0                       0.0                     0.0   \n1                  1.0                       0.0                     0.0   \n2                  1.0                       0.0                     0.0   \n3                  0.0                       0.0                     0.0   \n4                  1.0                       0.0                     0.0   \n...                ...                       ...                     ...   \n4995               0.0                       0.0                     0.0   \n4996               1.0                       0.0                     0.0   \n4997               0.0                       0.0                     0.0   \n4998               0.0                       0.0                     0.0   \n4999               0.0                       0.0                     0.0   \n\n      jobrole_Delivery Manager  jobrole_Developer  jobrole_Finance Manager  \\\n0                          0.0                0.0                      0.0   \n1                          0.0                0.0                      0.0   \n2                          0.0                0.0                      0.0   \n3                          0.0                0.0                      0.0   \n4                          0.0                0.0                      0.0   \n...                        ...                ...                      ...   \n4995                       0.0                0.0                      0.0   \n4996                       0.0                0.0                      0.0   \n4997                       0.0                0.0                      0.0   \n4998                       0.0                0.0                      0.0   \n4999                       0.0                0.0                      0.0   \n\n      jobrole_Healthcare Representative  jobrole_Human Resources  \\\n0                                   0.0                      0.0   \n1                                   0.0                      0.0   \n2                                   0.0                      0.0   \n3                                   0.0                      0.0   \n4                                   0.0                      0.0   \n...                                 ...                      ...   \n4995                                0.0                      0.0   \n4996                                0.0                      0.0   \n4997                                0.0                      0.0   \n4998                                0.0                      0.0   \n4999                                0.0                      0.0   \n\n      jobrole_Laboratory Technician  jobrole_Manager  jobrole_Manager R&D  \\\n0                               0.0              0.0                  0.0   \n1                               0.0              0.0                  0.0   \n2                               0.0              0.0                  0.0   \n3                               0.0              1.0                  0.0   \n4                               0.0              0.0                  0.0   \n...                             ...              ...                  ...   \n4995                            0.0              0.0                  0.0   \n4996                            0.0              0.0                  0.0   \n4997                            0.0              0.0                  0.0   \n4998                            0.0              0.0                  0.0   \n4999                            0.0              1.0                  0.0   \n\n      jobrole_Manufacturing Director  jobrole_Research Director  \\\n0                                0.0                        0.0   \n1                                0.0                        0.0   \n2                                0.0                        0.0   \n3                                0.0                        0.0   \n4                                0.0                        0.0   \n...                              ...                        ...   \n4995                             0.0                        0.0   \n4996                             0.0                        0.0   \n4997                             0.0                        0.0   \n4998                             1.0                        0.0   \n4999                             0.0                        0.0   \n\n      jobrole_Research Scientist  jobrole_Sales Executive  \\\n0                            0.0                      1.0   \n1                            0.0                      1.0   \n2                            0.0                      1.0   \n3                            0.0                      0.0   \n4                            0.0                      1.0   \n...                          ...                      ...   \n4995                         1.0                      0.0   \n4996                         0.0                      1.0   \n4997                         0.0                      0.0   \n4998                         0.0                      0.0   \n4999                         0.0                      0.0   \n\n      jobrole_Sales Representative  jobrole_Senior Developer  \\\n0                              0.0                       0.0   \n1                              0.0                       0.0   \n2                              0.0                       0.0   \n3                              0.0                       0.0   \n4                              0.0                       0.0   \n...                            ...                       ...   \n4995                           0.0                       0.0   \n4996                           0.0                       0.0   \n4997                           0.0                       0.0   \n4998                           0.0                       0.0   \n4999                           0.0                       0.0   \n\n      jobrole_Senior Manager R&D  jobrole_Technical Architect  \\\n0                            0.0                          0.0   \n1                            0.0                          0.0   \n2                            0.0                          0.0   \n3                            0.0                          0.0   \n4                            0.0                          0.0   \n...                          ...                          ...   \n4995                         0.0                          0.0   \n4996                         0.0                          0.0   \n4997                         1.0                          0.0   \n4998                         0.0                          0.0   \n4999                         0.0                          0.0   \n\n      jobrole_Technical Lead  Workingfromhomeoroffice_home  \\\n0                        0.0                           0.0   \n1                        0.0                           1.0   \n2                        0.0                           0.0   \n3                        0.0                           0.0   \n4                        0.0                           1.0   \n...                      ...                           ...   \n4995                     0.0                           0.0   \n4996                     0.0                           0.0   \n4997                     0.0                           1.0   \n4998                     0.0                           0.0   \n4999                     0.0                           1.0   \n\n      Workingfromhomeoroffice_office  overtime_no  overtime_yes  \\\n0                                1.0          1.0           0.0   \n1                                0.0          0.0           1.0   \n2                                1.0          1.0           0.0   \n3                                1.0          1.0           0.0   \n4                                0.0          0.0           1.0   \n...                              ...          ...           ...   \n4995                             1.0          1.0           0.0   \n4996                             1.0          1.0           0.0   \n4997                             0.0          1.0           0.0   \n4998                             1.0          0.0           1.0   \n4999                             0.0          1.0           0.0   \n\n      attendance_absent  attendance_present  effectedwithcorona_no  \\\n0                   0.0                 1.0                    1.0   \n1                   1.0                 0.0                    1.0   \n2                   0.0                 1.0                    0.0   \n3                   1.0                 0.0                    0.0   \n4                   0.0                 1.0                    1.0   \n...                 ...                 ...                    ...   \n4995                1.0                 0.0                    1.0   \n4996                0.0                 1.0                    1.0   \n4997                0.0                 1.0                    0.0   \n4998                1.0                 0.0                    1.0   \n4999                0.0                 1.0                    0.0   \n\n      effectedwithcorona_yes  \n0                        0.0  \n1                        0.0  \n2                        1.0  \n3                        1.0  \n4                        0.0  \n...                      ...  \n4995                     0.0  \n4996                     0.0  \n4997                     1.0  \n4998                     0.0  \n4999                     1.0  \n\n[5000 rows x 57 columns]",
      "text/html": "<div>\n<style scoped>\n    .dataframe tbody tr th:only-of-type {\n        vertical-align: middle;\n    }\n\n    .dataframe tbody tr th {\n        vertical-align: top;\n    }\n\n    .dataframe thead th {\n        text-align: right;\n    }\n</style>\n<table border=\"1\" class=\"dataframe\">\n  <thead>\n    <tr style=\"text-align: right;\">\n      <th></th>\n      <th>age</th>\n      <th>education</th>\n      <th>environmentsatisfaction</th>\n      <th>jobinvolvement</th>\n      <th>joblevel</th>\n      <th>jobsatisfaction</th>\n      <th>Annualincome</th>\n      <th>relationshipsatisfaction</th>\n      <th>totalworkingyearsexperience</th>\n      <th>TrainingTime</th>\n      <th>WorkLifeBalance</th>\n      <th>BehaviourialCompetence</th>\n      <th>OntimeDelivery</th>\n      <th>TicketSolvingManagements</th>\n      <th>Projectevlaution</th>\n      <th>Psychosocialindicators</th>\n      <th>PercentSalaryHike</th>\n      <th>PerformanceRating</th>\n      <th>Netconnectivity_no</th>\n      <th>Netconnectivity_yes</th>\n      <th>gender_f</th>\n      <th>gender_m</th>\n      <th>maritalstatus_married</th>\n      <th>maritalstatus_single</th>\n      <th>department_Data Science</th>\n      <th>department_Development</th>\n      <th>department_Finance</th>\n      <th>department_Human Resources</th>\n      <th>department_Research &amp; Development</th>\n      <th>department_Sales</th>\n      <th>jobrole_Business Analyst</th>\n      <th>jobrole_Data Scientist</th>\n      <th>jobrole_Delivery Manager</th>\n      <th>jobrole_Developer</th>\n      <th>jobrole_Finance Manager</th>\n      <th>jobrole_Healthcare Representative</th>\n      <th>jobrole_Human Resources</th>\n      <th>jobrole_Laboratory Technician</th>\n      <th>jobrole_Manager</th>\n      <th>jobrole_Manager R&amp;D</th>\n      <th>jobrole_Manufacturing Director</th>\n      <th>jobrole_Research Director</th>\n      <th>jobrole_Research Scientist</th>\n      <th>jobrole_Sales Executive</th>\n      <th>jobrole_Sales Representative</th>\n      <th>jobrole_Senior Developer</th>\n      <th>jobrole_Senior Manager R&amp;D</th>\n      <th>jobrole_Technical Architect</th>\n      <th>jobrole_Technical Lead</th>\n      <th>Workingfromhomeoroffice_home</th>\n      <th>Workingfromhomeoroffice_office</th>\n      <th>overtime_no</th>\n      <th>overtime_yes</th>\n      <th>attendance_absent</th>\n      <th>attendance_present</th>\n      <th>effectedwithcorona_no</th>\n      <th>effectedwithcorona_yes</th>\n    </tr>\n  </thead>\n  <tbody>\n    <tr>\n      <th>0</th>\n      <td>49</td>\n      <td>4</td>\n      <td>1</td>\n      <td>2</td>\n      <td>4</td>\n      <td>4</td>\n      <td>20</td>\n      <td>3</td>\n      <td>8</td>\n      <td>5</td>\n      <td>4</td>\n      <td>3</td>\n      <td>1</td>\n      <td>1</td>\n      <td>14</td>\n      <td>5</td>\n      <td>6</td>\n      <td>1</td>\n      <td>0.0</td>\n      <td>1.0</td>\n      <td>1.0</td>\n      <td>0.0</td>\n      <td>0.0</td>\n      <td>1.0</td>\n      <td>0.0</td>\n      <td>0.0</td>\n      <td>0.0</td>\n      <td>0.0</td>\n      <td>0.0</td>\n      <td>1.0</td>\n      <td>0.0</td>\n      <td>0.0</td>\n      <td>0.0</td>\n      <td>0.0</td>\n      <td>0.0</td>\n      <td>0.0</td>\n      <td>0.0</td>\n      <td>0.0</td>\n      <td>0.0</td>\n      <td>0.0</td>\n      <td>0.0</td>\n      <td>0.0</td>\n      <td>0.0</td>\n      <td>1.0</td>\n      <td>0.0</td>\n      <td>0.0</td>\n      <td>0.0</td>\n      <td>0.0</td>\n      <td>0.0</td>\n      <td>0.0</td>\n      <td>1.0</td>\n      <td>1.0</td>\n      <td>0.0</td>\n      <td>0.0</td>\n      <td>1.0</td>\n      <td>1.0</td>\n      <td>0.0</td>\n    </tr>\n    <tr>\n      <th>1</th>\n      <td>40</td>\n      <td>3</td>\n      <td>4</td>\n      <td>1</td>\n      <td>5</td>\n      <td>4</td>\n      <td>11</td>\n      <td>2</td>\n      <td>24</td>\n      <td>2</td>\n      <td>4</td>\n      <td>5</td>\n      <td>5</td>\n      <td>2</td>\n      <td>12</td>\n      <td>4</td>\n      <td>8</td>\n      <td>4</td>\n      <td>0.0</td>\n      <td>1.0</td>\n      <td>1.0</td>\n      <td>0.0</td>\n      <td>1.0</td>\n      <td>0.0</td>\n      <td>0.0</td>\n      <td>0.0</td>\n      <td>0.0</td>\n      <td>0.0</td>\n      <td>0.0</td>\n      <td>1.0</td>\n      <td>0.0</td>\n      <td>0.0</td>\n      <td>0.0</td>\n      <td>0.0</td>\n      <td>0.0</td>\n      <td>0.0</td>\n      <td>0.0</td>\n      <td>0.0</td>\n      <td>0.0</td>\n      <td>0.0</td>\n      <td>0.0</td>\n      <td>0.0</td>\n      <td>0.0</td>\n      <td>1.0</td>\n      <td>0.0</td>\n      <td>0.0</td>\n      <td>0.0</td>\n      <td>0.0</td>\n      <td>0.0</td>\n      <td>1.0</td>\n      <td>0.0</td>\n      <td>0.0</td>\n      <td>1.0</td>\n      <td>1.0</td>\n      <td>0.0</td>\n      <td>1.0</td>\n      <td>0.0</td>\n    </tr>\n    <tr>\n      <th>2</th>\n      <td>33</td>\n      <td>5</td>\n      <td>4</td>\n      <td>2</td>\n      <td>5</td>\n      <td>1</td>\n      <td>9</td>\n      <td>2</td>\n      <td>20</td>\n      <td>2</td>\n      <td>3</td>\n      <td>1</td>\n      <td>5</td>\n      <td>1</td>\n      <td>13</td>\n      <td>1</td>\n      <td>5</td>\n      <td>1</td>\n      <td>0.0</td>\n      <td>1.0</td>\n      <td>1.0</td>\n      <td>0.0</td>\n      <td>0.0</td>\n      <td>1.0</td>\n      <td>0.0</td>\n      <td>0.0</td>\n      <td>0.0</td>\n      <td>0.0</td>\n      <td>0.0</td>\n      <td>1.0</td>\n      <td>0.0</td>\n      <td>0.0</td>\n      <td>0.0</td>\n      <td>0.0</td>\n      <td>0.0</td>\n      <td>0.0</td>\n      <td>0.0</td>\n      <td>0.0</td>\n      <td>0.0</td>\n      <td>0.0</td>\n      <td>0.0</td>\n      <td>0.0</td>\n      <td>0.0</td>\n      <td>1.0</td>\n      <td>0.0</td>\n      <td>0.0</td>\n      <td>0.0</td>\n      <td>0.0</td>\n      <td>0.0</td>\n      <td>0.0</td>\n      <td>1.0</td>\n      <td>1.0</td>\n      <td>0.0</td>\n      <td>0.0</td>\n      <td>1.0</td>\n      <td>0.0</td>\n      <td>1.0</td>\n    </tr>\n    <tr>\n      <th>3</th>\n      <td>28</td>\n      <td>4</td>\n      <td>2</td>\n      <td>1</td>\n      <td>2</td>\n      <td>1</td>\n      <td>7</td>\n      <td>4</td>\n      <td>4</td>\n      <td>4</td>\n      <td>2</td>\n      <td>3</td>\n      <td>2</td>\n      <td>1</td>\n      <td>14</td>\n      <td>0</td>\n      <td>12</td>\n      <td>4</td>\n      <td>1.0</td>\n      <td>0.0</td>\n      <td>1.0</td>\n      <td>0.0</td>\n      <td>1.0</td>\n      <td>0.0</td>\n      <td>0.0</td>\n      <td>0.0</td>\n      <td>0.0</td>\n      <td>1.0</td>\n      <td>0.0</td>\n      <td>0.0</td>\n      <td>0.0</td>\n      <td>0.0</td>\n      <td>0.0</td>\n      <td>0.0</td>\n      <td>0.0</td>\n      <td>0.0</td>\n      <td>0.0</td>\n      <td>0.0</td>\n      <td>1.0</td>\n      <td>0.0</td>\n      <td>0.0</td>\n      <td>0.0</td>\n      <td>0.0</td>\n      <td>0.0</td>\n      <td>0.0</td>\n      <td>0.0</td>\n      <td>0.0</td>\n      <td>0.0</td>\n      <td>0.0</td>\n      <td>0.0</td>\n      <td>1.0</td>\n      <td>1.0</td>\n      <td>0.0</td>\n      <td>1.0</td>\n      <td>0.0</td>\n      <td>0.0</td>\n      <td>1.0</td>\n    </tr>\n    <tr>\n      <th>4</th>\n      <td>45</td>\n      <td>2</td>\n      <td>3</td>\n      <td>4</td>\n      <td>5</td>\n      <td>2</td>\n      <td>24</td>\n      <td>1</td>\n      <td>16</td>\n      <td>1</td>\n      <td>3</td>\n      <td>2</td>\n      <td>4</td>\n      <td>1</td>\n      <td>11</td>\n      <td>0</td>\n      <td>9</td>\n      <td>3</td>\n      <td>1.0</td>\n      <td>0.0</td>\n      <td>0.0</td>\n      <td>1.0</td>\n      <td>1.0</td>\n      <td>0.0</td>\n      <td>0.0</td>\n      <td>0.0</td>\n      <td>0.0</td>\n      <td>0.0</td>\n      <td>0.0</td>\n      <td>1.0</td>\n      <td>0.0</td>\n      <td>0.0</td>\n      <td>0.0</td>\n      <td>0.0</td>\n      <td>0.0</td>\n      <td>0.0</td>\n      <td>0.0</td>\n      <td>0.0</td>\n      <td>0.0</td>\n      <td>0.0</td>\n      <td>0.0</td>\n      <td>0.0</td>\n      <td>0.0</td>\n      <td>1.0</td>\n      <td>0.0</td>\n      <td>0.0</td>\n      <td>0.0</td>\n      <td>0.0</td>\n      <td>0.0</td>\n      <td>1.0</td>\n      <td>0.0</td>\n      <td>0.0</td>\n      <td>1.0</td>\n      <td>0.0</td>\n      <td>1.0</td>\n      <td>1.0</td>\n      <td>0.0</td>\n    </tr>\n    <tr>\n      <th>...</th>\n      <td>...</td>\n      <td>...</td>\n      <td>...</td>\n      <td>...</td>\n      <td>...</td>\n      <td>...</td>\n      <td>...</td>\n      <td>...</td>\n      <td>...</td>\n      <td>...</td>\n      <td>...</td>\n      <td>...</td>\n      <td>...</td>\n      <td>...</td>\n      <td>...</td>\n      <td>...</td>\n      <td>...</td>\n      <td>...</td>\n      <td>...</td>\n      <td>...</td>\n      <td>...</td>\n      <td>...</td>\n      <td>...</td>\n      <td>...</td>\n      <td>...</td>\n      <td>...</td>\n      <td>...</td>\n      <td>...</td>\n      <td>...</td>\n      <td>...</td>\n      <td>...</td>\n      <td>...</td>\n      <td>...</td>\n      <td>...</td>\n      <td>...</td>\n      <td>...</td>\n      <td>...</td>\n      <td>...</td>\n      <td>...</td>\n      <td>...</td>\n      <td>...</td>\n      <td>...</td>\n      <td>...</td>\n      <td>...</td>\n      <td>...</td>\n      <td>...</td>\n      <td>...</td>\n      <td>...</td>\n      <td>...</td>\n      <td>...</td>\n      <td>...</td>\n      <td>...</td>\n      <td>...</td>\n      <td>...</td>\n      <td>...</td>\n      <td>...</td>\n      <td>...</td>\n    </tr>\n    <tr>\n      <th>4995</th>\n      <td>30</td>\n      <td>5</td>\n      <td>3</td>\n      <td>4</td>\n      <td>3</td>\n      <td>4</td>\n      <td>15</td>\n      <td>2</td>\n      <td>8</td>\n      <td>2</td>\n      <td>4</td>\n      <td>2</td>\n      <td>5</td>\n      <td>2</td>\n      <td>14</td>\n      <td>4</td>\n      <td>11</td>\n      <td>1</td>\n      <td>1.0</td>\n      <td>0.0</td>\n      <td>0.0</td>\n      <td>1.0</td>\n      <td>0.0</td>\n      <td>1.0</td>\n      <td>0.0</td>\n      <td>0.0</td>\n      <td>0.0</td>\n      <td>0.0</td>\n      <td>1.0</td>\n      <td>0.0</td>\n      <td>0.0</td>\n      <td>0.0</td>\n      <td>0.0</td>\n      <td>0.0</td>\n      <td>0.0</td>\n      <td>0.0</td>\n      <td>0.0</td>\n      <td>0.0</td>\n      <td>0.0</td>\n      <td>0.0</td>\n      <td>0.0</td>\n      <td>0.0</td>\n      <td>1.0</td>\n      <td>0.0</td>\n      <td>0.0</td>\n      <td>0.0</td>\n      <td>0.0</td>\n      <td>0.0</td>\n      <td>0.0</td>\n      <td>0.0</td>\n      <td>1.0</td>\n      <td>1.0</td>\n      <td>0.0</td>\n      <td>1.0</td>\n      <td>0.0</td>\n      <td>1.0</td>\n      <td>0.0</td>\n    </tr>\n    <tr>\n      <th>4996</th>\n      <td>37</td>\n      <td>2</td>\n      <td>1</td>\n      <td>2</td>\n      <td>2</td>\n      <td>1</td>\n      <td>5</td>\n      <td>2</td>\n      <td>25</td>\n      <td>5</td>\n      <td>3</td>\n      <td>5</td>\n      <td>1</td>\n      <td>5</td>\n      <td>8</td>\n      <td>2</td>\n      <td>2</td>\n      <td>2</td>\n      <td>0.0</td>\n      <td>1.0</td>\n      <td>0.0</td>\n      <td>1.0</td>\n      <td>1.0</td>\n      <td>0.0</td>\n      <td>0.0</td>\n      <td>0.0</td>\n      <td>0.0</td>\n      <td>0.0</td>\n      <td>0.0</td>\n      <td>1.0</td>\n      <td>0.0</td>\n      <td>0.0</td>\n      <td>0.0</td>\n      <td>0.0</td>\n      <td>0.0</td>\n      <td>0.0</td>\n      <td>0.0</td>\n      <td>0.0</td>\n      <td>0.0</td>\n      <td>0.0</td>\n      <td>0.0</td>\n      <td>0.0</td>\n      <td>0.0</td>\n      <td>1.0</td>\n      <td>0.0</td>\n      <td>0.0</td>\n      <td>0.0</td>\n      <td>0.0</td>\n      <td>0.0</td>\n      <td>0.0</td>\n      <td>1.0</td>\n      <td>1.0</td>\n      <td>0.0</td>\n      <td>0.0</td>\n      <td>1.0</td>\n      <td>1.0</td>\n      <td>0.0</td>\n    </tr>\n    <tr>\n      <th>4997</th>\n      <td>25</td>\n      <td>2</td>\n      <td>3</td>\n      <td>3</td>\n      <td>5</td>\n      <td>3</td>\n      <td>6</td>\n      <td>3</td>\n      <td>18</td>\n      <td>2</td>\n      <td>2</td>\n      <td>5</td>\n      <td>5</td>\n      <td>1</td>\n      <td>5</td>\n      <td>5</td>\n      <td>13</td>\n      <td>2</td>\n      <td>1.0</td>\n      <td>0.0</td>\n      <td>1.0</td>\n      <td>0.0</td>\n      <td>0.0</td>\n      <td>1.0</td>\n      <td>0.0</td>\n      <td>0.0</td>\n      <td>0.0</td>\n      <td>0.0</td>\n      <td>1.0</td>\n      <td>0.0</td>\n      <td>0.0</td>\n      <td>0.0</td>\n      <td>0.0</td>\n      <td>0.0</td>\n      <td>0.0</td>\n      <td>0.0</td>\n      <td>0.0</td>\n      <td>0.0</td>\n      <td>0.0</td>\n      <td>0.0</td>\n      <td>0.0</td>\n      <td>0.0</td>\n      <td>0.0</td>\n      <td>0.0</td>\n      <td>0.0</td>\n      <td>0.0</td>\n      <td>1.0</td>\n      <td>0.0</td>\n      <td>0.0</td>\n      <td>1.0</td>\n      <td>0.0</td>\n      <td>1.0</td>\n      <td>0.0</td>\n      <td>0.0</td>\n      <td>1.0</td>\n      <td>0.0</td>\n      <td>1.0</td>\n    </tr>\n    <tr>\n      <th>4998</th>\n      <td>41</td>\n      <td>2</td>\n      <td>2</td>\n      <td>2</td>\n      <td>3</td>\n      <td>1</td>\n      <td>17</td>\n      <td>3</td>\n      <td>23</td>\n      <td>2</td>\n      <td>3</td>\n      <td>3</td>\n      <td>2</td>\n      <td>5</td>\n      <td>7</td>\n      <td>5</td>\n      <td>15</td>\n      <td>3</td>\n      <td>1.0</td>\n      <td>0.0</td>\n      <td>0.0</td>\n      <td>1.0</td>\n      <td>0.0</td>\n      <td>1.0</td>\n      <td>0.0</td>\n      <td>0.0</td>\n      <td>0.0</td>\n      <td>0.0</td>\n      <td>1.0</td>\n      <td>0.0</td>\n      <td>0.0</td>\n      <td>0.0</td>\n      <td>0.0</td>\n      <td>0.0</td>\n      <td>0.0</td>\n      <td>0.0</td>\n      <td>0.0</td>\n      <td>0.0</td>\n      <td>0.0</td>\n      <td>0.0</td>\n      <td>1.0</td>\n      <td>0.0</td>\n      <td>0.0</td>\n      <td>0.0</td>\n      <td>0.0</td>\n      <td>0.0</td>\n      <td>0.0</td>\n      <td>0.0</td>\n      <td>0.0</td>\n      <td>0.0</td>\n      <td>1.0</td>\n      <td>0.0</td>\n      <td>1.0</td>\n      <td>1.0</td>\n      <td>0.0</td>\n      <td>1.0</td>\n      <td>0.0</td>\n    </tr>\n    <tr>\n      <th>4999</th>\n      <td>32</td>\n      <td>5</td>\n      <td>1</td>\n      <td>2</td>\n      <td>5</td>\n      <td>2</td>\n      <td>7</td>\n      <td>2</td>\n      <td>15</td>\n      <td>1</td>\n      <td>3</td>\n      <td>3</td>\n      <td>1</td>\n      <td>1</td>\n      <td>13</td>\n      <td>4</td>\n      <td>13</td>\n      <td>4</td>\n      <td>0.0</td>\n      <td>1.0</td>\n      <td>1.0</td>\n      <td>0.0</td>\n      <td>0.0</td>\n      <td>1.0</td>\n      <td>0.0</td>\n      <td>0.0</td>\n      <td>0.0</td>\n      <td>0.0</td>\n      <td>1.0</td>\n      <td>0.0</td>\n      <td>0.0</td>\n      <td>0.0</td>\n      <td>0.0</td>\n      <td>0.0</td>\n      <td>0.0</td>\n      <td>0.0</td>\n      <td>0.0</td>\n      <td>0.0</td>\n      <td>1.0</td>\n      <td>0.0</td>\n      <td>0.0</td>\n      <td>0.0</td>\n      <td>0.0</td>\n      <td>0.0</td>\n      <td>0.0</td>\n      <td>0.0</td>\n      <td>0.0</td>\n      <td>0.0</td>\n      <td>0.0</td>\n      <td>1.0</td>\n      <td>0.0</td>\n      <td>1.0</td>\n      <td>0.0</td>\n      <td>0.0</td>\n      <td>1.0</td>\n      <td>0.0</td>\n      <td>1.0</td>\n    </tr>\n  </tbody>\n</table>\n<p>5000 rows × 57 columns</p>\n</div>"
     },
     "execution_count": 192,
     "metadata": {},
     "output_type": "execute_result"
    }
   ],
   "source": [
    "df"
   ],
   "metadata": {
    "collapsed": false,
    "pycharm": {
     "name": "#%%\n"
    }
   }
  },
  {
   "cell_type": "code",
   "execution_count": 193,
   "outputs": [],
   "source": [
    "y = df.loc[:, \"PerformanceRating\"]\n",
    "X = df.drop(columns = 'PerformanceRating', axis=1)"
   ],
   "metadata": {
    "collapsed": false,
    "pycharm": {
     "name": "#%%\n"
    }
   }
  },
  {
   "cell_type": "code",
   "execution_count": 194,
   "outputs": [
    {
     "name": "stdout",
     "output_type": "stream",
     "text": [
      "56\n"
     ]
    }
   ],
   "source": [
    "print(len(X.columns))"
   ],
   "metadata": {
    "collapsed": false,
    "pycharm": {
     "name": "#%%\n"
    }
   }
  },
  {
   "cell_type": "code",
   "execution_count": 195,
   "outputs": [],
   "source": [
    "X_train, X_test, y_train, y_test = train_test_split(X,y,test_size=0.3,random_state=10)"
   ],
   "metadata": {
    "collapsed": false,
    "pycharm": {
     "name": "#%%\n"
    }
   }
  },
  {
   "cell_type": "code",
   "execution_count": 196,
   "outputs": [],
   "source": [
    "col_out = ['age', 'education', 'environmentsatisfaction', 'jobinvolvement', 'joblevel', 'jobsatisfaction',\n",
    "            'Annualincome', 'relationshipsatisfaction', 'totalworkingyearsexperience', 'TrainingTime',\n",
    "            'WorkLifeBalance', 'BehaviourialCompetence', 'OntimeDelivery', 'TicketSolvingManagements',\n",
    "            'Projectevlaution', 'Psychosocialindicators', 'PercentSalaryHike']"
   ],
   "metadata": {
    "collapsed": false,
    "pycharm": {
     "name": "#%%\n"
    }
   }
  },
  {
   "cell_type": "code",
   "execution_count": 197,
   "outputs": [],
   "source": [
    "out_tre = Winsorizer(capping_method=\"iqr\", tail= \"both\", fold = 1.5 , variables= col_out)\n",
    "X_train = out_tre.fit_transform(X_train)\n",
    "X_test = out_tre.transform(X_test)"
   ],
   "metadata": {
    "collapsed": false,
    "pycharm": {
     "name": "#%%\n"
    }
   }
  },
  {
   "cell_type": "code",
   "execution_count": 198,
   "outputs": [],
   "source": [
    "sc = StandardScaler()\n",
    "X_train = sc.fit_transform(X_train)\n",
    "X_test = sc.transform(X_test)"
   ],
   "metadata": {
    "collapsed": false,
    "pycharm": {
     "name": "#%%\n"
    }
   }
  },
  {
   "cell_type": "code",
   "execution_count": 199,
   "outputs": [],
   "source": [
    "modelknn = KNeighborsClassifier(n_neighbors=1,  weights='distance', algorithm='auto',\n",
    "                             leaf_size=10, p=2, metric='minkowski', metric_params=None,\n",
    "                             n_jobs = None)"
   ],
   "metadata": {
    "collapsed": false,
    "pycharm": {
     "name": "#%%\n"
    }
   }
  },
  {
   "cell_type": "code",
   "execution_count": 200,
   "outputs": [],
   "source": [
    "model = BaggingClassifier(base_estimator = modelknn,\n",
    "                          n_estimators=10, max_samples=1.0, max_features=1.0,\n",
    "                          bootstrap=False, bootstrap_features=True, oob_score=False,\n",
    "                          warm_start=True, n_jobs=None, random_state=None, verbose=0)"
   ],
   "metadata": {
    "collapsed": false,
    "pycharm": {
     "name": "#%%\n"
    }
   }
  },
  {
   "cell_type": "code",
   "execution_count": 201,
   "outputs": [],
   "source": [
    "model.fit(X_train, y_train)\n",
    "y_tra = model.predict(X_train)\n",
    "y_predict = model.predict(X_test)"
   ],
   "metadata": {
    "collapsed": false,
    "pycharm": {
     "name": "#%%\n"
    }
   }
  },
  {
   "cell_type": "code",
   "execution_count": 202,
   "outputs": [
    {
     "name": "stdout",
     "output_type": "stream",
     "text": [
      "1.0\n",
      "0.5253333333333333\n",
      "F1 Score: 0.53\n",
      "              precision    recall  f1-score   support\n",
      "\n",
      "           1       0.48      0.57      0.52       381\n",
      "           2       0.54      0.53      0.53       375\n",
      "           3       0.51      0.48      0.50       369\n",
      "           4       0.58      0.51      0.55       375\n",
      "\n",
      "    accuracy                           0.53      1500\n",
      "   macro avg       0.53      0.52      0.53      1500\n",
      "weighted avg       0.53      0.53      0.53      1500\n",
      "\n"
     ]
    },
    {
     "data": {
      "text/plain": "array([[217,  61,  66,  37],\n       [ 78, 200,  48,  49],\n       [ 83,  55, 178,  53],\n       [ 70,  57,  55, 193]], dtype=int64)"
     },
     "execution_count": 202,
     "metadata": {},
     "output_type": "execute_result"
    }
   ],
   "source": [
    "print(accuracy_score(y_train,y_tra))\n",
    "print(accuracy_score(y_test,y_predict))\n",
    "print('F1 Score: %.2f' % f1_score(y_test, y_predict, average='macro'))\n",
    "print(classification_report(y_test,y_predict))\n",
    "confusion_matrix(y_test,y_predict)"
   ],
   "metadata": {
    "collapsed": false,
    "pycharm": {
     "name": "#%%\n"
    }
   }
  },
  {
   "cell_type": "code",
   "execution_count": 203,
   "outputs": [],
   "source": [
    "pickle.dump(model, open(\"emp.pkl\", \"wb\"))"
   ],
   "metadata": {
    "collapsed": false,
    "pycharm": {
     "name": "#%%\n"
    }
   }
  },
  {
   "cell_type": "code",
   "execution_count": 203,
   "outputs": [],
   "source": [],
   "metadata": {
    "collapsed": false,
    "pycharm": {
     "name": "#%%\n"
    }
   }
  }
 ],
 "metadata": {
  "kernelspec": {
   "display_name": "Python 3",
   "language": "python",
   "name": "python3"
  },
  "language_info": {
   "codemirror_mode": {
    "name": "ipython",
    "version": 2
   },
   "file_extension": ".py",
   "mimetype": "text/x-python",
   "name": "python",
   "nbconvert_exporter": "python",
   "pygments_lexer": "ipython2",
   "version": "2.7.6"
  }
 },
 "nbformat": 4,
 "nbformat_minor": 0
}