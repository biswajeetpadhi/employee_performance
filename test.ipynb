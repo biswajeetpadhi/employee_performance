{
 "cells": [
  {
   "cell_type": "code",
   "execution_count": 43,
   "outputs": [
    {
     "data": {
      "text/plain": "{'age': 23,\n 'education': 4,\n 'environmentsatisfaction': 4,\n 'jobinvolvement': 4,\n 'joblevel': 3,\n 'jobsatisfaction': 4,\n 'Annualincome': 36,\n 'relationshipsatisfaction': 4,\n 'totalworkingyearsexperience': 13,\n 'TrainingTime': 6,\n 'WorkLifeBalance': 5,\n 'BehaviourialCompetence': 4,\n 'OntimeDelivery': 3,\n 'TicketSolvingManagements': 3,\n 'Projectevlaution': 12,\n 'Psychosocialindicators': 4,\n 'PercentSalaryHike': 34,\n 'Netconnectivity': 'yes',\n 'gender': 'm',\n 'maritalstatus': 'single',\n 'department': 'Development',\n 'jobrole': 'Developer',\n 'Workingfromhomeoroffice': 'home',\n 'overtime': 'no',\n 'attendance': 'present',\n 'effectedwithcorona': 'no'}"
     },
     "execution_count": 43,
     "metadata": {},
     "output_type": "execute_result"
    }
   ],
   "source": [
    "{\n",
    "  \"age\": 23,\n",
    "  \"education\": 4,\n",
    "  \"environmentsatisfaction\": 4,\n",
    "  \"jobinvolvement\": 4,\n",
    "  \"joblevel\": 3,\n",
    "  \"jobsatisfaction\": 4,\n",
    "  \"Annualincome\": 36,\n",
    "  \"relationshipsatisfaction\": 4,\n",
    "  \"totalworkingyearsexperience\": 13,\n",
    "  \"TrainingTime\": 6,\n",
    "  \"WorkLifeBalance\": 5,\n",
    "  \"BehaviourialCompetence\": 4,\n",
    "  \"OntimeDelivery\": 3,\n",
    "  \"TicketSolvingManagements\": 3,\n",
    "  \"Projectevlaution\": 12,\n",
    "  \"Psychosocialindicators\": 4,\n",
    "  \"PercentSalaryHike\": 34,\n",
    "  \"Netconnectivity\": \"yes\",\n",
    "  \"gender\": \"m\",\n",
    "  \"maritalstatus\": \"single\",\n",
    "  \"department\": \"Development\",\n",
    "  \"jobrole\": \"Developer\",\n",
    "  \"Workingfromhomeoroffice\": \"home\",\n",
    "  \"overtime\": \"no\",\n",
    "  \"attendance\": \"present\",\n",
    "  \"effectedwithcorona\": \"no\"\n",
    "}"
   ],
   "metadata": {
    "collapsed": false,
    "pycharm": {
     "name": "#%%\n"
    }
   }
  },
  {
   "cell_type": "code",
   "execution_count": null,
   "outputs": [],
   "source": [],
   "metadata": {
    "collapsed": false,
    "pycharm": {
     "name": "#%%\n"
    }
   }
  }
 ],
 "metadata": {
  "kernelspec": {
   "display_name": "Python 3",
   "language": "python",
   "name": "python3"
  },
  "language_info": {
   "codemirror_mode": {
    "name": "ipython",
    "version": 2
   },
   "file_extension": ".py",
   "mimetype": "text/x-python",
   "name": "python",
   "nbconvert_exporter": "python",
   "pygments_lexer": "ipython2",
   "version": "2.7.6"
  }
 },
 "nbformat": 4,
 "nbformat_minor": 0
}